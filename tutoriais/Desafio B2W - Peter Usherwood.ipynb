{
 "cells": [
  {
   "cell_type": "markdown",
   "metadata": {},
   "source": [
    "Autor: Peter J Usherwood"
   ]
  },
  {
   "cell_type": "code",
   "execution_count": 1,
   "metadata": {},
   "outputs": [],
   "source": [
    "import pandas as pd\n",
    "import csv\n",
    "import numpy as np\n",
    "import itertools\n",
    "\n",
    "from sklearn.ensemble import RandomForestClassifier, ExtraTreesClassifier, GradientBoostingClassifier\n",
    "from sklearn.linear_model import LogisticRegression\n",
    "from sklearn.preprocessing import normalize\n",
    "from sklearn.model_selection import train_test_split, cross_val_score\n",
    "from sklearn.metrics import confusion_matrix\n",
    "from imblearn.over_sampling import SMOTE, ADASYN, RandomOverSampler\n",
    "\n",
    "import matplotlib.pyplot as plt\n",
    "import seaborn as sns\n",
    "% matplotlib inline"
   ]
  },
  {
   "cell_type": "markdown",
   "metadata": {},
   "source": [
    "# Descrição do Problema"
   ]
  },
  {
   "cell_type": "markdown",
   "metadata": {},
   "source": [
    "Este é um problema de \"supervised learning\" significando que nós temos um alvo que nós precisamos prever usando as outras características. Este documento está separado dentro duas partes. Primeiro vamos explorar e pré-processar o conjunto de dados. Segundo vamos criar os conjuntos de treino e teste, tentar varios classificadores, escolhar e provar o melhor, olhar para as carateristicas mais importas, e finalmente dar algumas intuições."
   ]
  },
  {
   "cell_type": "code",
   "execution_count": 2,
   "metadata": {},
   "outputs": [
    {
     "name": "stdout",
     "output_type": "stream",
     "text": [
      "180275\n"
     ]
    }
   ],
   "source": [
    "df = pd.read_csv('problem1_dataset.csv')\n",
    "print(len(df))"
   ]
  },
  {
   "cell_type": "markdown",
   "metadata": {},
   "source": [
    "# 1. Explorando e Pré-Processando as Características"
   ]
  },
  {
   "cell_type": "code",
   "execution_count": 3,
   "metadata": {},
   "outputs": [
    {
     "data": {
      "text/plain": [
       "21"
      ]
     },
     "execution_count": 3,
     "metadata": {},
     "output_type": "execute_result"
    }
   ],
   "source": [
    "len(df.columns)"
   ]
  },
  {
   "cell_type": "markdown",
   "metadata": {},
   "source": [
    "Há 21 colunas nos conjuntos de dados, dessas duas são IDs (ITEM_ID e SESSION_ID) e uma é o nosso alvo (INTERESTED). Se nós removermos estas duas colunas nós temos 18 caraterísticas que nós podemos usar para prever o alvo. Primeiro nós vamos explorar os dados, se uma caraterística não tem muitos registros ou não tem uma boa correlação com o alvo então talvez ela não daria bons resultados criando um modelo de previsão."
   ]
  },
  {
   "cell_type": "code",
   "execution_count": 4,
   "metadata": {},
   "outputs": [
    {
     "data": {
      "text/html": [
       "<div>\n",
       "<table border=\"1\" class=\"dataframe\">\n",
       "  <thead>\n",
       "    <tr style=\"text-align: right;\">\n",
       "      <th></th>\n",
       "      <th>LARGURA</th>\n",
       "      <th>MARCA</th>\n",
       "      <th>PARA_LAVA_LOUCAS</th>\n",
       "      <th>PARA_MICRO_ONDAS</th>\n",
       "      <th>PESO</th>\n",
       "      <th>PROFUNDIDADE</th>\n",
       "      <th>TEMPO_GARANTIA</th>\n",
       "      <th>TEM_FERRO_FUNDIDO</th>\n",
       "      <th>TEM_GRELHA</th>\n",
       "      <th>TEM_TAMPA</th>\n",
       "      <th>TIPO_PRODUTO</th>\n",
       "      <th>TIPO_WOK</th>\n",
       "      <th>SESSION_ID</th>\n",
       "      <th>ITEM_PRICE</th>\n",
       "      <th>INTERESTED</th>\n",
       "    </tr>\n",
       "  </thead>\n",
       "  <tbody>\n",
       "    <tr>\n",
       "      <th>0</th>\n",
       "      <td>14.0</td>\n",
       "      <td>LA CUISINE</td>\n",
       "      <td>NaN</td>\n",
       "      <td>NaN</td>\n",
       "      <td>NaN</td>\n",
       "      <td>50.0</td>\n",
       "      <td>3.0</td>\n",
       "      <td>NAO</td>\n",
       "      <td>SIM</td>\n",
       "      <td>1.0</td>\n",
       "      <td>PANELA</td>\n",
       "      <td>NAO</td>\n",
       "      <td>86.709770</td>\n",
       "      <td>199.990000</td>\n",
       "      <td>0.0</td>\n",
       "    </tr>\n",
       "    <tr>\n",
       "      <th>1</th>\n",
       "      <td>24.0</td>\n",
       "      <td>TRAMONTINA</td>\n",
       "      <td>No</td>\n",
       "      <td>no</td>\n",
       "      <td>150.0</td>\n",
       "      <td>40.0</td>\n",
       "      <td>12.0</td>\n",
       "      <td>NAO</td>\n",
       "      <td>NAO</td>\n",
       "      <td>1.0</td>\n",
       "      <td>PIPOQUEIRA</td>\n",
       "      <td>NAO</td>\n",
       "      <td>73.156401</td>\n",
       "      <td>105.112581</td>\n",
       "      <td>0.0</td>\n",
       "    </tr>\n",
       "    <tr>\n",
       "      <th>2</th>\n",
       "      <td>20.0</td>\n",
       "      <td>LA CUISINE</td>\n",
       "      <td>Yes</td>\n",
       "      <td>no</td>\n",
       "      <td>190.0</td>\n",
       "      <td>20.0</td>\n",
       "      <td>3.0</td>\n",
       "      <td>NAO</td>\n",
       "      <td>NAO</td>\n",
       "      <td>1.0</td>\n",
       "      <td>ESPAGUETEIRA</td>\n",
       "      <td>NAO</td>\n",
       "      <td>952.331024</td>\n",
       "      <td>139.990000</td>\n",
       "      <td>0.0</td>\n",
       "    </tr>\n",
       "    <tr>\n",
       "      <th>3</th>\n",
       "      <td>41.5</td>\n",
       "      <td>TRAMONTINA</td>\n",
       "      <td>Yes</td>\n",
       "      <td>NaN</td>\n",
       "      <td>120.0</td>\n",
       "      <td>47.0</td>\n",
       "      <td>NaN</td>\n",
       "      <td>NAO</td>\n",
       "      <td>NAO</td>\n",
       "      <td>1.0</td>\n",
       "      <td>PIPOQUEIRA</td>\n",
       "      <td>NAO</td>\n",
       "      <td>637.759106</td>\n",
       "      <td>103.293333</td>\n",
       "      <td>1.0</td>\n",
       "    </tr>\n",
       "    <tr>\n",
       "      <th>4</th>\n",
       "      <td>41.5</td>\n",
       "      <td>TRAMONTINA</td>\n",
       "      <td>Yes</td>\n",
       "      <td>NaN</td>\n",
       "      <td>120.0</td>\n",
       "      <td>47.0</td>\n",
       "      <td>NaN</td>\n",
       "      <td>NAO</td>\n",
       "      <td>NAO</td>\n",
       "      <td>1.0</td>\n",
       "      <td>PIPOQUEIRA</td>\n",
       "      <td>NAO</td>\n",
       "      <td>478.531428</td>\n",
       "      <td>103.330242</td>\n",
       "      <td>0.0</td>\n",
       "    </tr>\n",
       "    <tr>\n",
       "      <th>5</th>\n",
       "      <td>14.0</td>\n",
       "      <td>LA CUISINE</td>\n",
       "      <td>NaN</td>\n",
       "      <td>NaN</td>\n",
       "      <td>NaN</td>\n",
       "      <td>50.0</td>\n",
       "      <td>3.0</td>\n",
       "      <td>NAO</td>\n",
       "      <td>SIM</td>\n",
       "      <td>1.0</td>\n",
       "      <td>PANELA</td>\n",
       "      <td>NAO</td>\n",
       "      <td>914.936724</td>\n",
       "      <td>179.990000</td>\n",
       "      <td>0.0</td>\n",
       "    </tr>\n",
       "  </tbody>\n",
       "</table>\n",
       "</div>"
      ],
      "text/plain": [
       "   LARGURA       MARCA PARA_LAVA_LOUCAS PARA_MICRO_ONDAS   PESO  PROFUNDIDADE  \\\n",
       "0     14.0  LA CUISINE              NaN              NaN    NaN          50.0   \n",
       "1     24.0  TRAMONTINA               No               no  150.0          40.0   \n",
       "2     20.0  LA CUISINE              Yes               no  190.0          20.0   \n",
       "3     41.5  TRAMONTINA              Yes              NaN  120.0          47.0   \n",
       "4     41.5  TRAMONTINA              Yes              NaN  120.0          47.0   \n",
       "5     14.0  LA CUISINE              NaN              NaN    NaN          50.0   \n",
       "\n",
       "   TEMPO_GARANTIA TEM_FERRO_FUNDIDO TEM_GRELHA  TEM_TAMPA  TIPO_PRODUTO  \\\n",
       "0             3.0               NAO        SIM        1.0        PANELA   \n",
       "1            12.0               NAO        NAO        1.0    PIPOQUEIRA   \n",
       "2             3.0               NAO        NAO        1.0  ESPAGUETEIRA   \n",
       "3             NaN               NAO        NAO        1.0    PIPOQUEIRA   \n",
       "4             NaN               NAO        NAO        1.0    PIPOQUEIRA   \n",
       "5             3.0               NAO        SIM        1.0        PANELA   \n",
       "\n",
       "  TIPO_WOK  SESSION_ID  ITEM_PRICE  INTERESTED  \n",
       "0      NAO   86.709770  199.990000         0.0  \n",
       "1      NAO   73.156401  105.112581         0.0  \n",
       "2      NAO  952.331024  139.990000         0.0  \n",
       "3      NAO  637.759106  103.293333         1.0  \n",
       "4      NAO  478.531428  103.330242         0.0  \n",
       "5      NAO  914.936724  179.990000         0.0  "
      ]
     },
     "execution_count": 4,
     "metadata": {},
     "output_type": "execute_result"
    }
   ],
   "source": [
    "df.ix[:5,6:]"
   ]
  },
  {
   "cell_type": "markdown",
   "metadata": {},
   "source": [
    "# 1.1 Limpar as Características"
   ]
  },
  {
   "cell_type": "markdown",
   "metadata": {},
   "source": [
    "# Limpar e Agrupar\n",
    "\n",
    "Primeiro nós precisamos limpar os dados, e ao mesmo tempo, vai ajudar a agrupar as caraterísticas com o mesmo tipo porque nós não podemos comparar dados binários com dados categóricos."
   ]
  },
  {
   "cell_type": "code",
   "execution_count": 5,
   "metadata": {},
   "outputs": [
    {
     "data": {
      "text/html": [
       "<div>\n",
       "<table border=\"1\" class=\"dataframe\">\n",
       "  <thead>\n",
       "    <tr style=\"text-align: right;\">\n",
       "      <th></th>\n",
       "      <th>ALTURA</th>\n",
       "      <th>CAPACIDADE_(L)</th>\n",
       "      <th>LARGURA</th>\n",
       "      <th>PESO</th>\n",
       "      <th>PROFUNDIDADE</th>\n",
       "      <th>TEMPO_GARANTIA</th>\n",
       "      <th>ITEM_PRICE</th>\n",
       "    </tr>\n",
       "  </thead>\n",
       "  <tbody>\n",
       "    <tr>\n",
       "      <th>0</th>\n",
       "      <td>30.5</td>\n",
       "      <td>NaN</td>\n",
       "      <td>14.0</td>\n",
       "      <td>NaN</td>\n",
       "      <td>50.0</td>\n",
       "      <td>3.0</td>\n",
       "      <td>199.990000</td>\n",
       "    </tr>\n",
       "    <tr>\n",
       "      <th>1</th>\n",
       "      <td>22.0</td>\n",
       "      <td>NaN</td>\n",
       "      <td>24.0</td>\n",
       "      <td>150.0</td>\n",
       "      <td>40.0</td>\n",
       "      <td>12.0</td>\n",
       "      <td>105.112581</td>\n",
       "    </tr>\n",
       "    <tr>\n",
       "      <th>2</th>\n",
       "      <td>24.0</td>\n",
       "      <td>NaN</td>\n",
       "      <td>20.0</td>\n",
       "      <td>190.0</td>\n",
       "      <td>20.0</td>\n",
       "      <td>3.0</td>\n",
       "      <td>139.990000</td>\n",
       "    </tr>\n",
       "    <tr>\n",
       "      <th>3</th>\n",
       "      <td>49.5</td>\n",
       "      <td>6.0</td>\n",
       "      <td>41.5</td>\n",
       "      <td>120.0</td>\n",
       "      <td>47.0</td>\n",
       "      <td>NaN</td>\n",
       "      <td>103.293333</td>\n",
       "    </tr>\n",
       "    <tr>\n",
       "      <th>4</th>\n",
       "      <td>49.5</td>\n",
       "      <td>6.0</td>\n",
       "      <td>41.5</td>\n",
       "      <td>120.0</td>\n",
       "      <td>47.0</td>\n",
       "      <td>NaN</td>\n",
       "      <td>103.330242</td>\n",
       "    </tr>\n",
       "    <tr>\n",
       "      <th>5</th>\n",
       "      <td>30.5</td>\n",
       "      <td>NaN</td>\n",
       "      <td>14.0</td>\n",
       "      <td>NaN</td>\n",
       "      <td>50.0</td>\n",
       "      <td>3.0</td>\n",
       "      <td>179.990000</td>\n",
       "    </tr>\n",
       "  </tbody>\n",
       "</table>\n",
       "</div>"
      ],
      "text/plain": [
       "   ALTURA  CAPACIDADE_(L)  LARGURA   PESO  PROFUNDIDADE  TEMPO_GARANTIA  \\\n",
       "0    30.5             NaN     14.0    NaN          50.0             3.0   \n",
       "1    22.0             NaN     24.0  150.0          40.0            12.0   \n",
       "2    24.0             NaN     20.0  190.0          20.0             3.0   \n",
       "3    49.5             6.0     41.5  120.0          47.0             NaN   \n",
       "4    49.5             6.0     41.5  120.0          47.0             NaN   \n",
       "5    30.5             NaN     14.0    NaN          50.0             3.0   \n",
       "\n",
       "   ITEM_PRICE  \n",
       "0  199.990000  \n",
       "1  105.112581  \n",
       "2  139.990000  \n",
       "3  103.293333  \n",
       "4  103.330242  \n",
       "5  179.990000  "
      ]
     },
     "execution_count": 5,
     "metadata": {},
     "output_type": "execute_result"
    }
   ],
   "source": [
    "# continuo\n",
    "\n",
    "con_cols = ['ALTURA', 'CAPACIDADE_(L)', 'LARGURA', 'PESO', 'PROFUNDIDADE', 'TEMPO_GARANTIA', 'ITEM_PRICE']\n",
    "\n",
    "df.ix[:5, con_cols]"
   ]
  },
  {
   "cell_type": "code",
   "execution_count": 6,
   "metadata": {},
   "outputs": [
    {
     "data": {
      "text/html": [
       "<div>\n",
       "<table border=\"1\" class=\"dataframe\">\n",
       "  <thead>\n",
       "    <tr style=\"text-align: right;\">\n",
       "      <th></th>\n",
       "      <th>PARA_LAVA_LOUCAS</th>\n",
       "      <th>PARA_MICRO_ONDAS</th>\n",
       "      <th>TEM_GRELHA</th>\n",
       "      <th>TEM_FERRO_FUNDIDO</th>\n",
       "      <th>TEM_TAMPA</th>\n",
       "      <th>TIPO_WOK</th>\n",
       "    </tr>\n",
       "  </thead>\n",
       "  <tbody>\n",
       "    <tr>\n",
       "      <th>0</th>\n",
       "      <td>NaN</td>\n",
       "      <td>NaN</td>\n",
       "      <td>SIM</td>\n",
       "      <td>NAO</td>\n",
       "      <td>1.0</td>\n",
       "      <td>NAO</td>\n",
       "    </tr>\n",
       "    <tr>\n",
       "      <th>1</th>\n",
       "      <td>No</td>\n",
       "      <td>no</td>\n",
       "      <td>NAO</td>\n",
       "      <td>NAO</td>\n",
       "      <td>1.0</td>\n",
       "      <td>NAO</td>\n",
       "    </tr>\n",
       "    <tr>\n",
       "      <th>2</th>\n",
       "      <td>Yes</td>\n",
       "      <td>no</td>\n",
       "      <td>NAO</td>\n",
       "      <td>NAO</td>\n",
       "      <td>1.0</td>\n",
       "      <td>NAO</td>\n",
       "    </tr>\n",
       "    <tr>\n",
       "      <th>3</th>\n",
       "      <td>Yes</td>\n",
       "      <td>NaN</td>\n",
       "      <td>NAO</td>\n",
       "      <td>NAO</td>\n",
       "      <td>1.0</td>\n",
       "      <td>NAO</td>\n",
       "    </tr>\n",
       "    <tr>\n",
       "      <th>4</th>\n",
       "      <td>Yes</td>\n",
       "      <td>NaN</td>\n",
       "      <td>NAO</td>\n",
       "      <td>NAO</td>\n",
       "      <td>1.0</td>\n",
       "      <td>NAO</td>\n",
       "    </tr>\n",
       "    <tr>\n",
       "      <th>5</th>\n",
       "      <td>NaN</td>\n",
       "      <td>NaN</td>\n",
       "      <td>SIM</td>\n",
       "      <td>NAO</td>\n",
       "      <td>1.0</td>\n",
       "      <td>NAO</td>\n",
       "    </tr>\n",
       "  </tbody>\n",
       "</table>\n",
       "</div>"
      ],
      "text/plain": [
       "  PARA_LAVA_LOUCAS PARA_MICRO_ONDAS TEM_GRELHA TEM_FERRO_FUNDIDO  TEM_TAMPA  \\\n",
       "0              NaN              NaN        SIM               NAO        1.0   \n",
       "1               No               no        NAO               NAO        1.0   \n",
       "2              Yes               no        NAO               NAO        1.0   \n",
       "3              Yes              NaN        NAO               NAO        1.0   \n",
       "4              Yes              NaN        NAO               NAO        1.0   \n",
       "5              NaN              NaN        SIM               NAO        1.0   \n",
       "\n",
       "  TIPO_WOK  \n",
       "0      NAO  \n",
       "1      NAO  \n",
       "2      NAO  \n",
       "3      NAO  \n",
       "4      NAO  \n",
       "5      NAO  "
      ]
     },
     "execution_count": 6,
     "metadata": {},
     "output_type": "execute_result"
    }
   ],
   "source": [
    "# binario\n",
    "\n",
    "bin_cols = ['PARA_LAVA_LOUCAS', 'PARA_MICRO_ONDAS', 'TEM_GRELHA', 'TEM_FERRO_FUNDIDO', 'TEM_TAMPA', 'TIPO_WOK']\n",
    "\n",
    "df.ix[:5, bin_cols]"
   ]
  },
  {
   "cell_type": "code",
   "execution_count": 7,
   "metadata": {},
   "outputs": [
    {
     "data": {
      "text/html": [
       "<div>\n",
       "<table border=\"1\" class=\"dataframe\">\n",
       "  <thead>\n",
       "    <tr style=\"text-align: right;\">\n",
       "      <th></th>\n",
       "      <th>COMPOSICAO</th>\n",
       "      <th>COR</th>\n",
       "      <th>FORMATO</th>\n",
       "      <th>MARCA</th>\n",
       "      <th>TIPO_PRODUTO</th>\n",
       "    </tr>\n",
       "  </thead>\n",
       "  <tbody>\n",
       "    <tr>\n",
       "      <th>0</th>\n",
       "      <td>ALUMINIO</td>\n",
       "      <td>VINHO</td>\n",
       "      <td>NaN</td>\n",
       "      <td>LA CUISINE</td>\n",
       "      <td>PANELA</td>\n",
       "    </tr>\n",
       "    <tr>\n",
       "      <th>1</th>\n",
       "      <td>ALUMINIO</td>\n",
       "      <td>COLORIDO</td>\n",
       "      <td>NaN</td>\n",
       "      <td>TRAMONTINA</td>\n",
       "      <td>PIPOQUEIRA</td>\n",
       "    </tr>\n",
       "    <tr>\n",
       "      <th>2</th>\n",
       "      <td>INOX</td>\n",
       "      <td>INOX</td>\n",
       "      <td>NaN</td>\n",
       "      <td>LA CUISINE</td>\n",
       "      <td>ESPAGUETEIRA</td>\n",
       "    </tr>\n",
       "    <tr>\n",
       "      <th>3</th>\n",
       "      <td>ALUMINIO</td>\n",
       "      <td>VERMELHO</td>\n",
       "      <td>REDONDO</td>\n",
       "      <td>TRAMONTINA</td>\n",
       "      <td>PIPOQUEIRA</td>\n",
       "    </tr>\n",
       "    <tr>\n",
       "      <th>4</th>\n",
       "      <td>ALUMINIO</td>\n",
       "      <td>VERMELHO</td>\n",
       "      <td>REDONDO</td>\n",
       "      <td>TRAMONTINA</td>\n",
       "      <td>PIPOQUEIRA</td>\n",
       "    </tr>\n",
       "    <tr>\n",
       "      <th>5</th>\n",
       "      <td>ALUMINIO</td>\n",
       "      <td>VINHO</td>\n",
       "      <td>NaN</td>\n",
       "      <td>LA CUISINE</td>\n",
       "      <td>PANELA</td>\n",
       "    </tr>\n",
       "  </tbody>\n",
       "</table>\n",
       "</div>"
      ],
      "text/plain": [
       "  COMPOSICAO       COR  FORMATO       MARCA  TIPO_PRODUTO\n",
       "0   ALUMINIO     VINHO      NaN  LA CUISINE        PANELA\n",
       "1   ALUMINIO  COLORIDO      NaN  TRAMONTINA    PIPOQUEIRA\n",
       "2       INOX      INOX      NaN  LA CUISINE  ESPAGUETEIRA\n",
       "3   ALUMINIO  VERMELHO  REDONDO  TRAMONTINA    PIPOQUEIRA\n",
       "4   ALUMINIO  VERMELHO  REDONDO  TRAMONTINA    PIPOQUEIRA\n",
       "5   ALUMINIO     VINHO      NaN  LA CUISINE        PANELA"
      ]
     },
     "execution_count": 7,
     "metadata": {},
     "output_type": "execute_result"
    }
   ],
   "source": [
    "# categorico\n",
    "\n",
    "cat_cols = ['COMPOSICAO', 'COR', 'FORMATO', 'MARCA', 'TIPO_PRODUTO']\n",
    "\n",
    "df.ix[:5, cat_cols]"
   ]
  },
  {
   "cell_type": "markdown",
   "metadata": {},
   "source": [
    "# 1.1.1 Contínuo"
   ]
  },
  {
   "cell_type": "markdown",
   "metadata": {},
   "source": [
    "# 1.1.1.1 Limpar Outliers e Valores Impossíveis"
   ]
  },
  {
   "cell_type": "code",
   "execution_count": 8,
   "metadata": {},
   "outputs": [
    {
     "data": {
      "text/html": [
       "<div>\n",
       "<table border=\"1\" class=\"dataframe\">\n",
       "  <thead>\n",
       "    <tr style=\"text-align: right;\">\n",
       "      <th></th>\n",
       "      <th>ALTURA</th>\n",
       "      <th>CAPACIDADE_(L)</th>\n",
       "      <th>LARGURA</th>\n",
       "      <th>PESO</th>\n",
       "      <th>PROFUNDIDADE</th>\n",
       "      <th>TEMPO_GARANTIA</th>\n",
       "      <th>ITEM_PRICE</th>\n",
       "    </tr>\n",
       "  </thead>\n",
       "  <tbody>\n",
       "    <tr>\n",
       "      <th>count</th>\n",
       "      <td>171007.000000</td>\n",
       "      <td>76671.000000</td>\n",
       "      <td>171007.000000</td>\n",
       "      <td>98524.000000</td>\n",
       "      <td>171007.000000</td>\n",
       "      <td>122770.000000</td>\n",
       "      <td>167178.000000</td>\n",
       "    </tr>\n",
       "    <tr>\n",
       "      <th>mean</th>\n",
       "      <td>30.575636</td>\n",
       "      <td>4.234668</td>\n",
       "      <td>27.882157</td>\n",
       "      <td>311.259118</td>\n",
       "      <td>34.797386</td>\n",
       "      <td>13.870742</td>\n",
       "      <td>127.831019</td>\n",
       "    </tr>\n",
       "    <tr>\n",
       "      <th>std</th>\n",
       "      <td>14.856403</td>\n",
       "      <td>1.699274</td>\n",
       "      <td>10.494943</td>\n",
       "      <td>1727.585999</td>\n",
       "      <td>15.179911</td>\n",
       "      <td>43.641581</td>\n",
       "      <td>137.298241</td>\n",
       "    </tr>\n",
       "    <tr>\n",
       "      <th>min</th>\n",
       "      <td>2.000000</td>\n",
       "      <td>0.045000</td>\n",
       "      <td>4.500000</td>\n",
       "      <td>0.619000</td>\n",
       "      <td>2.500000</td>\n",
       "      <td>1.000000</td>\n",
       "      <td>0.550000</td>\n",
       "    </tr>\n",
       "    <tr>\n",
       "      <th>25%</th>\n",
       "      <td>19.000000</td>\n",
       "      <td>3.100000</td>\n",
       "      <td>20.000000</td>\n",
       "      <td>120.000000</td>\n",
       "      <td>19.800000</td>\n",
       "      <td>3.000000</td>\n",
       "      <td>74.990000</td>\n",
       "    </tr>\n",
       "    <tr>\n",
       "      <th>50%</th>\n",
       "      <td>30.500000</td>\n",
       "      <td>4.500000</td>\n",
       "      <td>27.800000</td>\n",
       "      <td>160.000000</td>\n",
       "      <td>38.500000</td>\n",
       "      <td>6.000000</td>\n",
       "      <td>104.482418</td>\n",
       "    </tr>\n",
       "    <tr>\n",
       "      <th>75%</th>\n",
       "      <td>42.700000</td>\n",
       "      <td>6.000000</td>\n",
       "      <td>35.000000</td>\n",
       "      <td>190.000000</td>\n",
       "      <td>47.000000</td>\n",
       "      <td>12.000000</td>\n",
       "      <td>146.327727</td>\n",
       "    </tr>\n",
       "    <tr>\n",
       "      <th>max</th>\n",
       "      <td>84.000000</td>\n",
       "      <td>11.000000</td>\n",
       "      <td>91.000000</td>\n",
       "      <td>44400.000000</td>\n",
       "      <td>148.000000</td>\n",
       "      <td>300.000000</td>\n",
       "      <td>2274.990000</td>\n",
       "    </tr>\n",
       "  </tbody>\n",
       "</table>\n",
       "</div>"
      ],
      "text/plain": [
       "              ALTURA  CAPACIDADE_(L)        LARGURA          PESO  \\\n",
       "count  171007.000000    76671.000000  171007.000000  98524.000000   \n",
       "mean       30.575636        4.234668      27.882157    311.259118   \n",
       "std        14.856403        1.699274      10.494943   1727.585999   \n",
       "min         2.000000        0.045000       4.500000      0.619000   \n",
       "25%        19.000000        3.100000      20.000000    120.000000   \n",
       "50%        30.500000        4.500000      27.800000    160.000000   \n",
       "75%        42.700000        6.000000      35.000000    190.000000   \n",
       "max        84.000000       11.000000      91.000000  44400.000000   \n",
       "\n",
       "        PROFUNDIDADE  TEMPO_GARANTIA     ITEM_PRICE  \n",
       "count  171007.000000   122770.000000  167178.000000  \n",
       "mean       34.797386       13.870742     127.831019  \n",
       "std        15.179911       43.641581     137.298241  \n",
       "min         2.500000        1.000000       0.550000  \n",
       "25%        19.800000        3.000000      74.990000  \n",
       "50%        38.500000        6.000000     104.482418  \n",
       "75%        47.000000       12.000000     146.327727  \n",
       "max       148.000000      300.000000    2274.990000  "
      ]
     },
     "execution_count": 8,
     "metadata": {},
     "output_type": "execute_result"
    }
   ],
   "source": [
    "df[con_cols].describe()"
   ]
  },
  {
   "cell_type": "markdown",
   "metadata": {},
   "source": [
    "Primeiro nós podemos ver que as colunas ALTURA, CAPACIDADE_(L), LARGURA, e PROFUNDIDADE tem valores que fazem sentido, não há valores impossíveis (por exemplo uma capacidade negativa), e também não existem valores que parecem errados (por exemplo uma profundidade de 10000000), assim nós podemos presumir que todos os valores presentes são bons.\n",
    "\n",
    "Para as outras colunas (PESO, TEMPO_GARANTIA, e ITEM_PRICE) todos os valores são possíveis, mas os máximos e mínimos (menos o mínimo de TEMPO_GARANTIA) poderiam estar errados, eles são mais de 10x as quartis, vamos olhar pra ver se esses valores são únicos e assim talvez um erro, ou so parte de uma coleção de produtos que são diferentes para a média."
   ]
  },
  {
   "cell_type": "code",
   "execution_count": 9,
   "metadata": {},
   "outputs": [
    {
     "data": {
      "image/png": "[encoded data removed]",
      "text/plain": [
       "<matplotlib.figure.Figure at 0xb4dc7b8>"
      ]
     },
     "metadata": {},
     "output_type": "display_data"
    }
   ],
   "source": [
    "fig = plt.figure(figsize=(15,8))\n",
    "\n",
    "axs = []\n",
    "for i, col in enumerate(con_cols):\n",
    "    axs.append(fig.add_subplot(3,3,i+1))\n",
    "    axs[i].set_title(col)\n",
    "    sns.distplot(df[~df[col].isnull()][col],\n",
    "                 ax=axs[i],\n",
    "                 hist_kws=dict(cumulative=True),\n",
    "                 kde_kws=dict(cumulative=True))\n",
    "    plt.tight_layout()"
   ]
  },
  {
   "cell_type": "code",
   "execution_count": 10,
   "metadata": {},
   "outputs": [
    {
     "data": {
      "text/plain": [
       "8028      13130.0\n",
       "167510    13130.0\n",
       "101748    13130.0\n",
       "25418     13130.0\n",
       "16139     13130.0\n",
       "6292      13130.0\n",
       "13710     13130.0\n",
       "27307     13130.0\n",
       "118140     4800.0\n",
       "123741     4800.0\n",
       "Name: PESO, dtype: float64"
      ]
     },
     "execution_count": 10,
     "metadata": {},
     "output_type": "execute_result"
    }
   ],
   "source": [
    "# Peso\n",
    "\n",
    "df[~df['PESO'].isnull()]['PESO'].sort_values(ascending=False)[200:210]"
   ]
  },
  {
   "cell_type": "code",
   "execution_count": 11,
   "metadata": {},
   "outputs": [
    {
     "data": {
      "text/plain": [
       "71374     300.0\n",
       "134865    300.0\n",
       "34945     300.0\n",
       "157999    300.0\n",
       "175927    300.0\n",
       "134793    300.0\n",
       "134794    300.0\n",
       "158005    300.0\n",
       "60924     300.0\n",
       "158011    300.0\n",
       "Name: TEMPO_GARANTIA, dtype: float64"
      ]
     },
     "execution_count": 11,
     "metadata": {},
     "output_type": "execute_result"
    }
   ],
   "source": [
    "# Tempo Garantia\n",
    "\n",
    "df[~df['TEMPO_GARANTIA'].isnull()]['TEMPO_GARANTIA'].sort_values(ascending=False)[200:210]"
   ]
  },
  {
   "cell_type": "code",
   "execution_count": 12,
   "metadata": {},
   "outputs": [
    {
     "data": {
      "text/plain": [
       "72646     2209.99\n",
       "144508    2209.99\n",
       "36367     2209.99\n",
       "34278     2209.99\n",
       "73917     2209.99\n",
       "36413     2209.99\n",
       "148260    2209.99\n",
       "56115     2209.99\n",
       "19839     2209.99\n",
       "148341    2209.99\n",
       "Name: ITEM_PRICE, dtype: float64"
      ]
     },
     "execution_count": 12,
     "metadata": {},
     "output_type": "execute_result"
    }
   ],
   "source": [
    "# Item Price\n",
    "\n",
    "df[~df['ITEM_PRICE'].isnull()]['ITEM_PRICE'].sort_values(ascending=False)[200:210]"
   ]
  },
  {
   "cell_type": "markdown",
   "metadata": {},
   "source": [
    "Vamos ver em cima que todos os outliers estão em grupos de pelo menos 200 registros, isso é pequeno comparado com o tamanho do conjunto de dados mas é improvável que eles estejam errados e talvez eles tenham informações importantes assim por agora vamos deixar tudo dentro o conjunto (mas talvez vamos precisar remover mais tarde).\n",
    "\n",
    "Agora só precisamos remover os NaNs."
   ]
  },
  {
   "cell_type": "markdown",
   "metadata": {},
   "source": [
    "# 1.1.1.2 Limpar Dados Faltantes\n",
    "\n",
    "Para dados contínuos nós podemos substituir os dados falantes com a média"
   ]
  },
  {
   "cell_type": "code",
   "execution_count": 13,
   "metadata": {},
   "outputs": [
    {
     "data": {
      "text/plain": [
       "<matplotlib.axes._subplots.AxesSubplot at 0xc3d4f60>"
      ]
     },
     "execution_count": 13,
     "metadata": {},
     "output_type": "execute_result"
    },
    {
     "data": {
      "image/png": "[encoded data removed]",
      "text/plain": [
       "<matplotlib.figure.Figure at 0xb4d1cc0>"
      ]
     },
     "metadata": {},
     "output_type": "display_data"
    }
   ],
   "source": [
    "f, axarray = plt.subplots(1,1,figsize=(15,8))\n",
    "plt.xticks(rotation = 'vertical')\n",
    "axarray.set_title('Contagem de Valor')\n",
    "\n",
    "bins = df[con_cols].count()\n",
    "\n",
    "sns.barplot(ax=axarray,\n",
    "            x=bins.values,\n",
    "            y=bins.index,\n",
    "            orient='h')"
   ]
  },
  {
   "cell_type": "code",
   "execution_count": 14,
   "metadata": {},
   "outputs": [
    {
     "data": {
      "text/html": [
       "<div>\n",
       "<table border=\"1\" class=\"dataframe\">\n",
       "  <thead>\n",
       "    <tr style=\"text-align: right;\">\n",
       "      <th></th>\n",
       "      <th>ALTURA</th>\n",
       "      <th>CAPACIDADE_(L)</th>\n",
       "      <th>LARGURA</th>\n",
       "      <th>PESO</th>\n",
       "      <th>PROFUNDIDADE</th>\n",
       "      <th>TEMPO_GARANTIA</th>\n",
       "      <th>ITEM_PRICE</th>\n",
       "    </tr>\n",
       "  </thead>\n",
       "  <tbody>\n",
       "    <tr>\n",
       "      <th>count</th>\n",
       "      <td>180275.000000</td>\n",
       "      <td>180275.000000</td>\n",
       "      <td>180275.000000</td>\n",
       "      <td>180275.000000</td>\n",
       "      <td>180275.000000</td>\n",
       "      <td>180275.000000</td>\n",
       "      <td>180275.000000</td>\n",
       "    </tr>\n",
       "    <tr>\n",
       "      <th>mean</th>\n",
       "      <td>30.575636</td>\n",
       "      <td>4.234668</td>\n",
       "      <td>27.882157</td>\n",
       "      <td>311.259118</td>\n",
       "      <td>34.797386</td>\n",
       "      <td>13.870742</td>\n",
       "      <td>127.831019</td>\n",
       "    </tr>\n",
       "    <tr>\n",
       "      <th>std</th>\n",
       "      <td>14.469476</td>\n",
       "      <td>1.108178</td>\n",
       "      <td>10.221607</td>\n",
       "      <td>1277.150101</td>\n",
       "      <td>14.784558</td>\n",
       "      <td>36.014575</td>\n",
       "      <td>132.216815</td>\n",
       "    </tr>\n",
       "    <tr>\n",
       "      <th>min</th>\n",
       "      <td>2.000000</td>\n",
       "      <td>0.045000</td>\n",
       "      <td>4.500000</td>\n",
       "      <td>0.619000</td>\n",
       "      <td>2.500000</td>\n",
       "      <td>1.000000</td>\n",
       "      <td>0.550000</td>\n",
       "    </tr>\n",
       "    <tr>\n",
       "      <th>25%</th>\n",
       "      <td>19.600000</td>\n",
       "      <td>4.234668</td>\n",
       "      <td>20.000000</td>\n",
       "      <td>160.000000</td>\n",
       "      <td>19.800000</td>\n",
       "      <td>3.000000</td>\n",
       "      <td>81.311401</td>\n",
       "    </tr>\n",
       "    <tr>\n",
       "      <th>50%</th>\n",
       "      <td>30.500000</td>\n",
       "      <td>4.234668</td>\n",
       "      <td>27.882157</td>\n",
       "      <td>311.259118</td>\n",
       "      <td>36.500000</td>\n",
       "      <td>12.000000</td>\n",
       "      <td>107.107222</td>\n",
       "    </tr>\n",
       "    <tr>\n",
       "      <th>75%</th>\n",
       "      <td>42.700000</td>\n",
       "      <td>4.500000</td>\n",
       "      <td>32.700000</td>\n",
       "      <td>311.259118</td>\n",
       "      <td>47.000000</td>\n",
       "      <td>13.870742</td>\n",
       "      <td>139.900000</td>\n",
       "    </tr>\n",
       "    <tr>\n",
       "      <th>max</th>\n",
       "      <td>84.000000</td>\n",
       "      <td>11.000000</td>\n",
       "      <td>91.000000</td>\n",
       "      <td>44400.000000</td>\n",
       "      <td>148.000000</td>\n",
       "      <td>300.000000</td>\n",
       "      <td>2274.990000</td>\n",
       "    </tr>\n",
       "  </tbody>\n",
       "</table>\n",
       "</div>"
      ],
      "text/plain": [
       "              ALTURA  CAPACIDADE_(L)        LARGURA           PESO  \\\n",
       "count  180275.000000   180275.000000  180275.000000  180275.000000   \n",
       "mean       30.575636        4.234668      27.882157     311.259118   \n",
       "std        14.469476        1.108178      10.221607    1277.150101   \n",
       "min         2.000000        0.045000       4.500000       0.619000   \n",
       "25%        19.600000        4.234668      20.000000     160.000000   \n",
       "50%        30.500000        4.234668      27.882157     311.259118   \n",
       "75%        42.700000        4.500000      32.700000     311.259118   \n",
       "max        84.000000       11.000000      91.000000   44400.000000   \n",
       "\n",
       "        PROFUNDIDADE  TEMPO_GARANTIA     ITEM_PRICE  \n",
       "count  180275.000000   180275.000000  180275.000000  \n",
       "mean       34.797386       13.870742     127.831019  \n",
       "std        14.784558       36.014575     132.216815  \n",
       "min         2.500000        1.000000       0.550000  \n",
       "25%        19.800000        3.000000      81.311401  \n",
       "50%        36.500000       12.000000     107.107222  \n",
       "75%        47.000000       13.870742     139.900000  \n",
       "max       148.000000      300.000000    2274.990000  "
      ]
     },
     "execution_count": 14,
     "metadata": {},
     "output_type": "execute_result"
    }
   ],
   "source": [
    "for col in con_cols:\n",
    "    df[col] = df[col].fillna(df[col].mean())\n",
    "    \n",
    "df[con_cols].describe()"
   ]
  },
  {
   "cell_type": "markdown",
   "metadata": {},
   "source": [
    "# 1.1.2 Binário"
   ]
  },
  {
   "cell_type": "markdown",
   "metadata": {},
   "source": [
    "# 1.1.2.1 Limpar \n",
    "\n",
    "Primeiro vamos limpar os dados assim todas as caraterísticas tem valores 1 ou 0. Fazemos 1 e 0 porque é mais fácil para usar que TRUE e FALSE"
   ]
  },
  {
   "cell_type": "code",
   "execution_count": 15,
   "metadata": {},
   "outputs": [
    {
     "name": "stdout",
     "output_type": "stream",
     "text": [
      "PARA_LAVA_LOUCAS\n",
      "1.0    74615\n",
      "0.0    29471\n",
      "Name: PARA_LAVA_LOUCAS, dtype: int64\n",
      "PARA_MICRO_ONDAS\n",
      "0.0    81367\n",
      "1.0     5035\n",
      "Name: PARA_MICRO_ONDAS, dtype: int64\n",
      "TEM_GRELHA\n",
      "0    160090\n",
      "1     20185\n",
      "Name: TEM_GRELHA, dtype: int64\n",
      "TEM_FERRO_FUNDIDO\n",
      "0    154938\n",
      "1     25337\n",
      "Name: TEM_FERRO_FUNDIDO, dtype: int64\n",
      "TEM_TAMPA\n",
      "0.0    100827\n",
      "1.0     79448\n",
      "Name: TEM_TAMPA, dtype: int64\n",
      "TIPO_WOK\n",
      "0    144820\n",
      "1     35455\n",
      "Name: TIPO_WOK, dtype: int64\n"
     ]
    }
   ],
   "source": [
    "for col in bin_cols:\n",
    "    print(col)\n",
    "    df[col] = df[col].replace('Yes', 1).replace('yes', 1).replace('SIM', 1)\n",
    "    df[col] = df[col].replace('No', 0).replace('no', 0).replace('NAO', 0)\n",
    "    print(df[col].value_counts())"
   ]
  },
  {
   "cell_type": "markdown",
   "metadata": {},
   "source": [
    "# 1.1.2.2 Limpar Dados Faltantes"
   ]
  },
  {
   "cell_type": "code",
   "execution_count": 16,
   "metadata": {},
   "outputs": [
    {
     "data": {
      "text/plain": [
       "<matplotlib.axes._subplots.AxesSubplot at 0xbb5ceb8>"
      ]
     },
     "execution_count": 16,
     "metadata": {},
     "output_type": "execute_result"
    },
    {
     "data": {
      "image/png": "[encoded data removed]",
      "text/plain": [
       "<matplotlib.figure.Figure at 0xbb69dd8>"
      ]
     },
     "metadata": {},
     "output_type": "display_data"
    }
   ],
   "source": [
    "f, axarray = plt.subplots(1,1,figsize=(15,8))\n",
    "plt.xticks(rotation = 'vertical')\n",
    "axarray.set_title('Contagem de Valor')\n",
    "\n",
    "bins = df[bin_cols].count()\n",
    "\n",
    "sns.barplot(ax=axarray,\n",
    "            x=bins.values,\n",
    "            y=bins.index,\n",
    "            orient='h')"
   ]
  },
  {
   "cell_type": "code",
   "execution_count": 17,
   "metadata": {},
   "outputs": [
    {
     "data": {
      "text/plain": [
       "<matplotlib.axes._subplots.AxesSubplot at 0xc8be8d0>"
      ]
     },
     "execution_count": 17,
     "metadata": {},
     "output_type": "execute_result"
    },
    {
     "data": {
      "image/png": "[encoded data removed]",
      "text/plain": [
       "<matplotlib.figure.Figure at 0xbd6f208>"
      ]
     },
     "metadata": {},
     "output_type": "display_data"
    }
   ],
   "source": [
    "f,axarray = plt.subplots(1,1,figsize=(15,8))\n",
    "plt.xticks(rotation = 'vertical')\n",
    "axarray.set_title('% de valores que são 1')\n",
    "\n",
    "bins = df[bin_cols].sum()/df[bin_cols].count()\n",
    "\n",
    "sns.barplot(ax=axarray,\n",
    "            x=bins.values,\n",
    "            y=bins.index,\n",
    "            orient='h')"
   ]
  },
  {
   "cell_type": "markdown",
   "metadata": {},
   "source": [
    "As coisas interessantes aqui são PARA_LAVA_LOUCAS e PARA_MICRO_ONDAS, ambos têm valores perdidos, mas porque ambos tem uma preferência nos valores (PARA_LAVA_LOUCAS é 72% 1s e PARA_MICRO_ONDAS é 94% 0s) nós podemos substituir os NaNs com os modos. Isso é bom porque nós não podemos trabalhar com valores perdidos mas não queremos remover tantos (100K) registros."
   ]
  },
  {
   "cell_type": "code",
   "execution_count": 18,
   "metadata": {},
   "outputs": [
    {
     "data": {
      "text/html": [
       "<div>\n",
       "<table border=\"1\" class=\"dataframe\">\n",
       "  <thead>\n",
       "    <tr style=\"text-align: right;\">\n",
       "      <th></th>\n",
       "      <th>PARA_LAVA_LOUCAS</th>\n",
       "      <th>PARA_MICRO_ONDAS</th>\n",
       "      <th>TEM_GRELHA</th>\n",
       "      <th>TEM_FERRO_FUNDIDO</th>\n",
       "      <th>TEM_TAMPA</th>\n",
       "      <th>TIPO_WOK</th>\n",
       "    </tr>\n",
       "  </thead>\n",
       "  <tbody>\n",
       "    <tr>\n",
       "      <th>count</th>\n",
       "      <td>180275.000000</td>\n",
       "      <td>180275.000000</td>\n",
       "      <td>180275.000000</td>\n",
       "      <td>180275.000000</td>\n",
       "      <td>180275.000000</td>\n",
       "      <td>180275.000000</td>\n",
       "    </tr>\n",
       "    <tr>\n",
       "      <th>mean</th>\n",
       "      <td>0.836522</td>\n",
       "      <td>0.027930</td>\n",
       "      <td>0.111968</td>\n",
       "      <td>0.140546</td>\n",
       "      <td>0.440704</td>\n",
       "      <td>0.196672</td>\n",
       "    </tr>\n",
       "    <tr>\n",
       "      <th>std</th>\n",
       "      <td>0.369802</td>\n",
       "      <td>0.164771</td>\n",
       "      <td>0.315328</td>\n",
       "      <td>0.347554</td>\n",
       "      <td>0.496473</td>\n",
       "      <td>0.397483</td>\n",
       "    </tr>\n",
       "    <tr>\n",
       "      <th>min</th>\n",
       "      <td>0.000000</td>\n",
       "      <td>0.000000</td>\n",
       "      <td>0.000000</td>\n",
       "      <td>0.000000</td>\n",
       "      <td>0.000000</td>\n",
       "      <td>0.000000</td>\n",
       "    </tr>\n",
       "    <tr>\n",
       "      <th>25%</th>\n",
       "      <td>1.000000</td>\n",
       "      <td>0.000000</td>\n",
       "      <td>0.000000</td>\n",
       "      <td>0.000000</td>\n",
       "      <td>0.000000</td>\n",
       "      <td>0.000000</td>\n",
       "    </tr>\n",
       "    <tr>\n",
       "      <th>50%</th>\n",
       "      <td>1.000000</td>\n",
       "      <td>0.000000</td>\n",
       "      <td>0.000000</td>\n",
       "      <td>0.000000</td>\n",
       "      <td>0.000000</td>\n",
       "      <td>0.000000</td>\n",
       "    </tr>\n",
       "    <tr>\n",
       "      <th>75%</th>\n",
       "      <td>1.000000</td>\n",
       "      <td>0.000000</td>\n",
       "      <td>0.000000</td>\n",
       "      <td>0.000000</td>\n",
       "      <td>1.000000</td>\n",
       "      <td>0.000000</td>\n",
       "    </tr>\n",
       "    <tr>\n",
       "      <th>max</th>\n",
       "      <td>1.000000</td>\n",
       "      <td>1.000000</td>\n",
       "      <td>1.000000</td>\n",
       "      <td>1.000000</td>\n",
       "      <td>1.000000</td>\n",
       "      <td>1.000000</td>\n",
       "    </tr>\n",
       "  </tbody>\n",
       "</table>\n",
       "</div>"
      ],
      "text/plain": [
       "       PARA_LAVA_LOUCAS  PARA_MICRO_ONDAS     TEM_GRELHA  TEM_FERRO_FUNDIDO  \\\n",
       "count     180275.000000     180275.000000  180275.000000      180275.000000   \n",
       "mean           0.836522          0.027930       0.111968           0.140546   \n",
       "std            0.369802          0.164771       0.315328           0.347554   \n",
       "min            0.000000          0.000000       0.000000           0.000000   \n",
       "25%            1.000000          0.000000       0.000000           0.000000   \n",
       "50%            1.000000          0.000000       0.000000           0.000000   \n",
       "75%            1.000000          0.000000       0.000000           0.000000   \n",
       "max            1.000000          1.000000       1.000000           1.000000   \n",
       "\n",
       "           TEM_TAMPA       TIPO_WOK  \n",
       "count  180275.000000  180275.000000  \n",
       "mean        0.440704       0.196672  \n",
       "std         0.496473       0.397483  \n",
       "min         0.000000       0.000000  \n",
       "25%         0.000000       0.000000  \n",
       "50%         0.000000       0.000000  \n",
       "75%         1.000000       0.000000  \n",
       "max         1.000000       1.000000  "
      ]
     },
     "execution_count": 18,
     "metadata": {},
     "output_type": "execute_result"
    }
   ],
   "source": [
    "df['PARA_LAVA_LOUCAS'].fillna(1, inplace=True)\n",
    "df['PARA_MICRO_ONDAS'].fillna(0, inplace=True)\n",
    "\n",
    "df[bin_cols].describe()"
   ]
  },
  {
   "cell_type": "markdown",
   "metadata": {},
   "source": [
    "# 1.1.3 Categórico"
   ]
  },
  {
   "cell_type": "markdown",
   "metadata": {},
   "source": [
    "# 1.1.3.1 Agrupar valores"
   ]
  },
  {
   "cell_type": "code",
   "execution_count": 19,
   "metadata": {},
   "outputs": [
    {
     "data": {
      "text/html": [
       "<div>\n",
       "<table border=\"1\" class=\"dataframe\">\n",
       "  <thead>\n",
       "    <tr style=\"text-align: right;\">\n",
       "      <th></th>\n",
       "      <th>COMPOSICAO</th>\n",
       "      <th>COR</th>\n",
       "      <th>FORMATO</th>\n",
       "      <th>MARCA</th>\n",
       "      <th>TIPO_PRODUTO</th>\n",
       "    </tr>\n",
       "  </thead>\n",
       "  <tbody>\n",
       "    <tr>\n",
       "      <th>count</th>\n",
       "      <td>156978</td>\n",
       "      <td>170251</td>\n",
       "      <td>90011</td>\n",
       "      <td>180001</td>\n",
       "      <td>180275</td>\n",
       "    </tr>\n",
       "    <tr>\n",
       "      <th>unique</th>\n",
       "      <td>5</td>\n",
       "      <td>24</td>\n",
       "      <td>5</td>\n",
       "      <td>35</td>\n",
       "      <td>38</td>\n",
       "    </tr>\n",
       "    <tr>\n",
       "      <th>top</th>\n",
       "      <td>ALUMINIO</td>\n",
       "      <td>INOX</td>\n",
       "      <td>REDONDO</td>\n",
       "      <td>TRAMONTINA</td>\n",
       "      <td>PANELA</td>\n",
       "    </tr>\n",
       "    <tr>\n",
       "      <th>freq</th>\n",
       "      <td>114218</td>\n",
       "      <td>34502</td>\n",
       "      <td>79888</td>\n",
       "      <td>72971</td>\n",
       "      <td>62418</td>\n",
       "    </tr>\n",
       "  </tbody>\n",
       "</table>\n",
       "</div>"
      ],
      "text/plain": [
       "       COMPOSICAO     COR  FORMATO       MARCA TIPO_PRODUTO\n",
       "count      156978  170251    90011      180001       180275\n",
       "unique          5      24        5          35           38\n",
       "top      ALUMINIO    INOX  REDONDO  TRAMONTINA       PANELA\n",
       "freq       114218   34502    79888       72971        62418"
      ]
     },
     "execution_count": 19,
     "metadata": {},
     "output_type": "execute_result"
    }
   ],
   "source": [
    "df[cat_cols].describe()"
   ]
  },
  {
   "cell_type": "markdown",
   "metadata": {},
   "source": [
    "Precisamos olhar mais para cada categoria para ver se eles têm valores com pequenas quantidades de valores. Se sim é melhor para agrupar esses dentro grupos maiores (vamos tentar pelo menos 1%) porque nós não queremos over-fit para os valores pequenos. Para agrupar nós temos duas opções:\n",
    "\n",
    "1. Vamos tentar agrupar os pequenos com valores que já existem se o grupo faria sentido usando o nosso conhecimento de dominio (por exemplo, se uma marca pequena é uma sub-marca de uma outra marca então nós podemos agrupar)\n",
    "2. Se nós não podemos fazer a opção 1, vamos agrupar bastante os pequenos valores dentro de um grupo chamado \"Outro\""
   ]
  },
  {
   "cell_type": "code",
   "execution_count": 20,
   "metadata": {},
   "outputs": [
    {
     "data": {
      "text/plain": [
       "ALUMINIO         0.727605\n",
       "INOX             0.258374\n",
       "CERAMICA         0.012307\n",
       "PORCELANA        0.000885\n",
       "ACO ESMALTADO    0.000828\n",
       "Name: COMPOSICAO, dtype: float64"
      ]
     },
     "execution_count": 20,
     "metadata": {},
     "output_type": "execute_result"
    }
   ],
   "source": [
    "df[cat_cols[0]].value_counts()/df[cat_cols[0]].value_counts().sum()"
   ]
  },
  {
   "cell_type": "markdown",
   "metadata": {},
   "source": [
    "Aqui vamos agrupar os últimos três dentro um grupo chamado \"outros\", este grupo faz sentido porque nós não podemos agrupar tudo com uma outra categoria, mas também estes valores têm propriedades similares."
   ]
  },
  {
   "cell_type": "code",
   "execution_count": 21,
   "metadata": {},
   "outputs": [
    {
     "data": {
      "text/plain": [
       "ALUMINIO    0.727605\n",
       "INOX        0.258374\n",
       "OUTROS      0.014021\n",
       "Name: COMPOSICAO, dtype: float64"
      ]
     },
     "execution_count": 21,
     "metadata": {},
     "output_type": "execute_result"
    }
   ],
   "source": [
    "df[cat_cols[0]] = df[cat_cols[0]].replace('CERAMICA', 'OUTROS').replace('PORCELANA', 'OUTROS').replace('ACO ESMALTADO', 'OUTROS')\n",
    "df[cat_cols[0]].value_counts()/df[cat_cols[0]].value_counts().sum()"
   ]
  },
  {
   "cell_type": "code",
   "execution_count": 22,
   "metadata": {},
   "outputs": [
    {
     "data": {
      "text/plain": [
       "INOX         0.202654\n",
       "PRETO        0.180956\n",
       "VERMELHO     0.179000\n",
       "CEREJA       0.139089\n",
       "COLORIDO     0.051048\n",
       "GRAFITE      0.046708\n",
       "VINHO        0.037621\n",
       "GOIABA       0.030766\n",
       "AMARELO      0.025509\n",
       "PRATA        0.022156\n",
       "LARANJA      0.013944\n",
       "COBRE        0.013451\n",
       "BERINGELA    0.010749\n",
       "AZUL         0.010432\n",
       "VERDE        0.007824\n",
       "CHOCOLATE    0.006919\n",
       "TURQUESA     0.006461\n",
       "ROXO         0.004905\n",
       "MARROM       0.004846\n",
       "BRANCO       0.002261\n",
       "ROSA         0.001821\n",
       "CINZA        0.000717\n",
       "FENDI        0.000141\n",
       "ACACIA       0.000023\n",
       "Name: COR, dtype: float64"
      ]
     },
     "execution_count": 22,
     "metadata": {},
     "output_type": "execute_result"
    }
   ],
   "source": [
    "df[cat_cols[1]].value_counts()/df[cat_cols[1]].value_counts().sum()"
   ]
  },
  {
   "cell_type": "markdown",
   "metadata": {},
   "source": [
    "Podemos agrupar as cores dentro de grupos de cores mais simples, este processo é subjetivo e deve ser feito idealmente com o cliente usando os dados. Achamos FENDI que não é uma cor assim nós vamos remover agora como um erro."
   ]
  },
  {
   "cell_type": "code",
   "execution_count": 23,
   "metadata": {},
   "outputs": [
    {
     "data": {
      "text/plain": [
       "VERMELHO          0.318115\n",
       "PRATA             0.224846\n",
       "PRETO_E_BRANCO    0.183248\n",
       "ROXA              0.085874\n",
       "COLORIDO          0.051066\n",
       "CINZA             0.047436\n",
       "AMARELO           0.025533\n",
       "MARROM            0.025222\n",
       "VERDE             0.014285\n",
       "LARANJA           0.013944\n",
       "AZUL              0.010432\n",
       "Name: COR, dtype: float64"
      ]
     },
     "execution_count": 23,
     "metadata": {},
     "output_type": "execute_result"
    }
   ],
   "source": [
    "colour_map = {'INOX':'PRATA',\n",
    "              'PRETO':'PRETO_E_BRANCO',\n",
    "              'VERMELHO':'VERMELHO',\n",
    "              'CEREJA':'VERMELHO',\n",
    "              'COLORIDO':'COLORIDO',\n",
    "              'GRAFITE':'CINZA',\n",
    "              'VINHO':'ROXA',\n",
    "              'GOIABA':'ROXA',\n",
    "              'AMARELO':'AMARELO',\n",
    "              'PRATA':'PRATA',\n",
    "              'LARANJA':'LARANJA',\n",
    "              'COBRE':'MARROM',\n",
    "              'BERINGELA':'ROXA',\n",
    "              'AZUL':'AZUL',\n",
    "              'VERDE':'VERDE',\n",
    "              'CHOCOLATE':'MARROM',\n",
    "              'TURQUESA':'VERDE',\n",
    "              'ROXO':'ROXA',\n",
    "              'MARROM':'MARROM',\n",
    "              'BRANCO':'PRETO_E_BRANCO',\n",
    "              'ROSA':'ROXA',\n",
    "              'CINZA':'CINZA',\n",
    "              'FENDI':None,\n",
    "              'ACACIA':'AMARELO'}\n",
    "\n",
    "for val in df[cat_cols[1]].value_counts().index.tolist():\n",
    "    if val is not 'FENDI':\n",
    "        df[cat_cols[1]] = df[cat_cols[1]].replace(val, colour_map[val])\n",
    "    \n",
    "df[cat_cols[1]].value_counts()/df[cat_cols[1]].value_counts().sum()"
   ]
  },
  {
   "cell_type": "code",
   "execution_count": 24,
   "metadata": {},
   "outputs": [
    {
     "data": {
      "text/plain": [
       "REDONDO       0.887536\n",
       "QUADRADO      0.042606\n",
       "FRIGIDEIRA    0.038029\n",
       "OVAL          0.019753\n",
       "RETANGULAR    0.012076\n",
       "Name: FORMATO, dtype: float64"
      ]
     },
     "execution_count": 24,
     "metadata": {},
     "output_type": "execute_result"
    }
   ],
   "source": [
    "df[cat_cols[2]].value_counts()/df[cat_cols[2]].value_counts().sum()"
   ]
  },
  {
   "cell_type": "markdown",
   "metadata": {},
   "source": [
    "Aqui faz mais sentido para agrupar RETANGULAR com QUADRADO e OVAL com REDONDO, também nós podemos agrupar FRIGIDEIRA com REDONDO também, embora isso é menos claro. Agora todos os valores tem pelo menos 5%."
   ]
  },
  {
   "cell_type": "code",
   "execution_count": 25,
   "metadata": {},
   "outputs": [
    {
     "data": {
      "text/plain": [
       "REDONDO     0.945318\n",
       "QUADRADO    0.054682\n",
       "Name: FORMATO, dtype: float64"
      ]
     },
     "execution_count": 25,
     "metadata": {},
     "output_type": "execute_result"
    }
   ],
   "source": [
    "df[cat_cols[2]] = df[cat_cols[2]].replace('RETANGULAR', 'QUADRADO').replace('OVAL', 'REDONDO').replace('FRIGIDEIRA', 'REDONDO')\n",
    "df[cat_cols[2]].value_counts()/df[cat_cols[2]].value_counts().sum()"
   ]
  },
  {
   "cell_type": "code",
   "execution_count": 26,
   "metadata": {},
   "outputs": [
    {
     "data": {
      "text/plain": [
       "TRAMONTINA                      0.405392\n",
       "LA CUISINE                      0.179116\n",
       "PANELA MINEIRA                  0.072377\n",
       "BRINOX                          0.045250\n",
       "VEC                             0.042933\n",
       "EURO HOME                       0.037783\n",
       "FUMIL                           0.032422\n",
       "HERCULES                        0.031411\n",
       "EURO                            0.024722\n",
       "HAPPYCALL                       0.023961\n",
       "ALUMINIO FORTALEZA              0.012900\n",
       "PANELUX                         0.012622\n",
       "SUN GUIDER                      0.010944\n",
       "MTA                             0.010705\n",
       "CERAFLAME                       0.009328\n",
       "ROCHEDO                         0.009139\n",
       "DONA CHEFA                      0.007539\n",
       "JOMAFE                          0.006894\n",
       "AT.HOME                         0.006500\n",
       "ELECTROLUX                      0.005094\n",
       "ALUMINIO RAMOS                  0.004428\n",
       "MIMO STYLE                      0.001572\n",
       "OXFORD COOKWARE                 0.001406\n",
       "FORMA                           0.000861\n",
       "TRAMONTINA DESIGN COLLECTION    0.000828\n",
       "PRAVA                           0.000772\n",
       "PRAVAS                          0.000722\n",
       "CONSUL                          0.000622\n",
       "BIALETTI                        0.000544\n",
       "ZANELLA                         0.000361\n",
       "CLASSIC HOME                    0.000306\n",
       "DYNASTY                         0.000222\n",
       "MERIDIONAL                      0.000178\n",
       "BR HOME                         0.000128\n",
       "HELIOS                          0.000017\n",
       "Name: MARCA, dtype: float64"
      ]
     },
     "execution_count": 26,
     "metadata": {},
     "output_type": "execute_result"
    }
   ],
   "source": [
    "df[cat_cols[3]].value_counts()/df[cat_cols[3]].value_counts().sum()"
   ]
  },
  {
   "cell_type": "markdown",
   "metadata": {},
   "source": [
    "Para as marcas, um bom conhecimento das marcas e quais deveriam ser agrupadas com quais, é melhor alcançado com o cliente que vai usar os dados. Porque, por exemplo, talvez há uma maneira de como as marcas vendem ou anunciam os produtos que precisam que eles sejam agrupados juntos. Por agora vamos agrupar todas as marcas com menos de 1% dentro um grupo camado \"OUTRO\""
   ]
  },
  {
   "cell_type": "code",
   "execution_count": 27,
   "metadata": {},
   "outputs": [
    {
     "data": {
      "text/plain": [
       "TRAMONTINA            0.405392\n",
       "LA CUISINE            0.179116\n",
       "PANELA MINEIRA        0.072377\n",
       "OUTRO                 0.057461\n",
       "BRINOX                0.045250\n",
       "VEC                   0.042933\n",
       "EURO HOME             0.037783\n",
       "FUMIL                 0.032422\n",
       "HERCULES              0.031411\n",
       "EURO                  0.024722\n",
       "HAPPYCALL             0.023961\n",
       "ALUMINIO FORTALEZA    0.012900\n",
       "PANELUX               0.012622\n",
       "SUN GUIDER            0.010944\n",
       "MTA                   0.010705\n",
       "Name: MARCA, dtype: float64"
      ]
     },
     "execution_count": 27,
     "metadata": {},
     "output_type": "execute_result"
    }
   ],
   "source": [
    "brand_map_outro_lista = ['CERAFLAME', 'ROCHEDO', 'DONA CHEFA', 'JOMAFE', 'AT.HOME', 'ELECTROLUX', 'ALUMINIO RAMOS', 'MIMO STYLE',\n",
    "                        'OXFORD COOKWARE', 'FORMA', 'TRAMONTINA DESIGN COLLECTION', 'PRAVA', 'PRAVAS', 'CONSUL', 'BIALETTI',\n",
    "                        'ZANELLA', 'CLASSIC HOME', 'DYNASTY', 'MERIDIONAL', 'BR HOME', 'HELIOS']\n",
    "\n",
    "for val in brand_map_outro_lista:\n",
    "    df[cat_cols[3]] = df[cat_cols[3]].replace(val, 'OUTRO')\n",
    "    \n",
    "df[cat_cols[3]].value_counts()/df[cat_cols[3]].value_counts().sum()"
   ]
  },
  {
   "cell_type": "code",
   "execution_count": 28,
   "metadata": {},
   "outputs": [
    {
     "data": {
      "text/plain": [
       "PANELA             0.346238\n",
       "PIPOQUEIRA         0.156688\n",
       "CHALEIRA           0.096442\n",
       "CACAROLA           0.092481\n",
       "FRIGIDEIRA         0.090556\n",
       "ESPAGUETEIRA       0.044721\n",
       "CUSCUZEIRA         0.038009\n",
       "CHAPA              0.027891\n",
       "WOK                0.026787\n",
       "CALDEIRAO          0.014073\n",
       "FERVEDOR           0.013241\n",
       "GRILL              0.006412\n",
       "PAELLERA           0.004554\n",
       "BIFETEIRA          0.004133\n",
       "BULE               0.004127\n",
       "PANQUEQUEIRA       0.003900\n",
       "LEITEIRA           0.003855\n",
       "FORMA              0.003373\n",
       "FRITADEIRA         0.003062\n",
       "OMELETEIRA         0.002796\n",
       "COZI-VAPORE        0.002751\n",
       "FOGAREIRO          0.002335\n",
       "ASSADEIRA          0.002058\n",
       "MINI-CACAROLA      0.001964\n",
       "CREMEIRA           0.001681\n",
       "SANDUICHEIRA       0.001342\n",
       "TAMPA              0.001026\n",
       "FONDUE             0.000782\n",
       "CUMBUCA            0.000660\n",
       "PRENSADOR          0.000566\n",
       "FORNO              0.000488\n",
       "COZI-PASTA         0.000372\n",
       "CUSCUZEIRO         0.000272\n",
       "PAPEIRO            0.000194\n",
       "CANECA/FERVEDOR    0.000072\n",
       "VAPORELLA          0.000039\n",
       "BISTEQUEIRA        0.000033\n",
       "CANECO             0.000028\n",
       "Name: TIPO_PRODUTO, dtype: float64"
      ]
     },
     "execution_count": 28,
     "metadata": {},
     "output_type": "execute_result"
    }
   ],
   "source": [
    "df[cat_cols[4]].value_counts()/df[cat_cols[4]].value_counts().sum()"
   ]
  },
  {
   "cell_type": "markdown",
   "metadata": {},
   "source": [
    "De novo seria bom pra fazer os grupos com o cliente que vai usar os dados. Não podemos fazer isso aqui assim vamos tentar sem ajuda."
   ]
  },
  {
   "cell_type": "code",
   "execution_count": 29,
   "metadata": {},
   "outputs": [
    {
     "data": {
      "text/plain": [
       "PANELA                  0.373818\n",
       "APARELHINHO ELETRICO    0.164726\n",
       "FRIGIDEIRA              0.126063\n",
       "BULE E CHALEIRA         0.100569\n",
       "ASSADEIRA               0.096503\n",
       "PANELA - ESPECIFICA     0.084721\n",
       "APARELHO DE COZINHAR    0.040189\n",
       "OUTRO                   0.013413\n",
       "Name: TIPO_PRODUTO, dtype: float64"
      ]
     },
     "execution_count": 29,
     "metadata": {},
     "output_type": "execute_result"
    }
   ],
   "source": [
    "product_map = {'PANELA':'PANELA',\n",
    "               'PIPOQUEIRA':'APARELHINHO ELETRICO',\n",
    "               'CHALEIRA':'BULE E CHALEIRA',\n",
    "               'CACAROLA':'ASSADEIRA',\n",
    "               'FRIGIDEIRA':'FRIGIDEIRA',\n",
    "               'ESPAGUETEIRA':'PANELA - ESPECIFICA',\n",
    "               'CUSCUZEIRA':'PANELA - ESPECIFICA',\n",
    "               'CHAPA':'APARELHO DE COZINHAR',\n",
    "               'WOK':'FRIGIDEIRA',\n",
    "               'CALDEIRAO':'PANELA',\n",
    "               'FERVEDOR':'PANELA',\n",
    "               'GRILL':'APARELHO DE COZINHAR',\n",
    "               'PAELLERA':'FRIGIDEIRA',\n",
    "               'BIFETEIRA':'FRIGIDEIRA',\n",
    "               'BULE':'BULE E CHALEIRA',\n",
    "               'PANQUEQUEIRA':'APARELHINHO ELETRICO',\n",
    "               'LEITEIRA':'OUTRO',\n",
    "               'FORMA':'OUTRO',\n",
    "               'FRITADEIRA':'APARELHO DE COZINHAR',\n",
    "               'OMELETEIRA':'APARELHINHO ELETRICO',\n",
    "               'COZI-VAPORE':'OUTRO',\n",
    "               'FOGAREIRO':'APARELHO DE COZINHAR',\n",
    "               'ASSADEIRA':'ASSADEIRA',\n",
    "               'MINI-CACAROLA':'ASSADEIRA',\n",
    "               'CREMEIRA':'OUTRO',\n",
    "               'SANDUICHEIRA':'APARELHINHO ELETRICO',\n",
    "               'TAMPA':'OUTRO',\n",
    "               'FONDUE':'PANELA - ESPECIFICA',\n",
    "               'CUMBUCA':'OUTRO',\n",
    "               'PRENSADOR':'PANELA - ESPECIFICA',\n",
    "               'FORNO':'APARELHO DE COZINHAR',\n",
    "               'COZI-PASTA':'PANELA - ESPECIFICA',\n",
    "               'CUSCUZEIRO':'PANELA - ESPECIFICA',\n",
    "               'PAPEIRO':'PANELA',\n",
    "               'CANECA/FERVEDOR':'PANELA',\n",
    "               'VAPORELLA':'OUTRO',\n",
    "               'BISTEQUEIRA':'FRIGIDEIRA',\n",
    "               'CANECO':'OUTRO'}\n",
    "\n",
    "for val in df[cat_cols[4]].value_counts().index.tolist():\n",
    "    df[cat_cols[4]] = df[cat_cols[4]].replace(val, product_map[val])\n",
    "    \n",
    "df[cat_cols[4]].value_counts()/df[cat_cols[4]].value_counts().sum()"
   ]
  },
  {
   "cell_type": "markdown",
   "metadata": {},
   "source": [
    "# 1.1.3.2 Limpar Dados Faltantes"
   ]
  },
  {
   "cell_type": "markdown",
   "metadata": {},
   "source": [
    "Mesmo das caraterísticas binárias nós podemos substituir os NaNs com os modos. Aqui a maioria das caraterísticas tem mais ou menos valores por cada registro assim nós não temos um problema grande com dados falantes, a excessão é FORMATO mas isso tem um modo grande (95% redondo) assim é seguro para usarmos."
   ]
  },
  {
   "cell_type": "code",
   "execution_count": 30,
   "metadata": {},
   "outputs": [
    {
     "data": {
      "text/plain": [
       "<matplotlib.axes._subplots.AxesSubplot at 0xb4a9860>"
      ]
     },
     "execution_count": 30,
     "metadata": {},
     "output_type": "execute_result"
    },
    {
     "data": {
      "image/png": "[encoded data removed]",
      "text/plain": [
       "<matplotlib.figure.Figure at 0xc175438>"
      ]
     },
     "metadata": {},
     "output_type": "display_data"
    }
   ],
   "source": [
    "f, axarray = plt.subplots(1,1,figsize=(15,8))\n",
    "plt.xticks(rotation = 'vertical')\n",
    "axarray.set_title('Contagem de Valor')\n",
    "\n",
    "bins = df[cat_cols].count()\n",
    "\n",
    "sns.barplot(ax=axarray,\n",
    "            x=bins.values,\n",
    "            y=bins.index,\n",
    "            orient='h')"
   ]
  },
  {
   "cell_type": "code",
   "execution_count": 31,
   "metadata": {},
   "outputs": [
    {
     "data": {
      "text/html": [
       "<div>\n",
       "<table border=\"1\" class=\"dataframe\">\n",
       "  <thead>\n",
       "    <tr style=\"text-align: right;\">\n",
       "      <th></th>\n",
       "      <th>COMPOSICAO</th>\n",
       "      <th>COR</th>\n",
       "      <th>FORMATO</th>\n",
       "      <th>MARCA</th>\n",
       "      <th>TIPO_PRODUTO</th>\n",
       "    </tr>\n",
       "  </thead>\n",
       "  <tbody>\n",
       "    <tr>\n",
       "      <th>count</th>\n",
       "      <td>180275</td>\n",
       "      <td>180275</td>\n",
       "      <td>180275</td>\n",
       "      <td>180275</td>\n",
       "      <td>180275</td>\n",
       "    </tr>\n",
       "    <tr>\n",
       "      <th>unique</th>\n",
       "      <td>3</td>\n",
       "      <td>11</td>\n",
       "      <td>2</td>\n",
       "      <td>15</td>\n",
       "      <td>8</td>\n",
       "    </tr>\n",
       "    <tr>\n",
       "      <th>top</th>\n",
       "      <td>ALUMINIO</td>\n",
       "      <td>VERMELHO</td>\n",
       "      <td>REDONDO</td>\n",
       "      <td>TRAMONTINA</td>\n",
       "      <td>PANELA</td>\n",
       "    </tr>\n",
       "    <tr>\n",
       "      <th>freq</th>\n",
       "      <td>137515</td>\n",
       "      <td>64184</td>\n",
       "      <td>175353</td>\n",
       "      <td>73245</td>\n",
       "      <td>67390</td>\n",
       "    </tr>\n",
       "  </tbody>\n",
       "</table>\n",
       "</div>"
      ],
      "text/plain": [
       "       COMPOSICAO       COR  FORMATO       MARCA TIPO_PRODUTO\n",
       "count      180275    180275   180275      180275       180275\n",
       "unique          3        11        2          15            8\n",
       "top      ALUMINIO  VERMELHO  REDONDO  TRAMONTINA       PANELA\n",
       "freq       137515     64184   175353       73245        67390"
      ]
     },
     "execution_count": 31,
     "metadata": {},
     "output_type": "execute_result"
    }
   ],
   "source": [
    "for col in cat_cols:\n",
    "    modo = df[col].value_counts().index[0]\n",
    "    df[col] = df[col].fillna(modo)\n",
    "    \n",
    "df[cat_cols].describe()"
   ]
  },
  {
   "cell_type": "markdown",
   "metadata": {},
   "source": [
    "# 1.1.3.3 Fazer \"One Hot Encoding\"\n",
    "\n",
    "Vamos fazer mais uma etapa aqui, para algumas funções vamos precisar de todos os dados numéricos, assim vamos transformar as caraterísticas categóricas para mais caraterísticas binárias. Este tipo de codificação é chamado one hot encoding. Também essa tem um outro benefício, agora temos uma caraterística para cada valor, assim quando nós damos os resultados para o cliente nós podemos dizer qual valor de qual caraterística está impulsionando o alvo."
   ]
  },
  {
   "cell_type": "code",
   "execution_count": 32,
   "metadata": {},
   "outputs": [],
   "source": [
    "for col in cat_cols:\n",
    "    one_hot = pd.get_dummies(df[col])\n",
    "    for ohc in one_hot.columns.tolist():\n",
    "        one_hot.rename(columns={ohc:col+': '+ohc}, inplace=True)\n",
    "    df = pd.concat([df, one_hot], axis=1)\n",
    "    df.drop(col, 1, inplace=True)"
   ]
  },
  {
   "cell_type": "markdown",
   "metadata": {},
   "source": [
    "# 1.1.4 Resumo"
   ]
  },
  {
   "cell_type": "code",
   "execution_count": 33,
   "metadata": {},
   "outputs": [],
   "source": [
    "car_cols = list(set(df.columns.tolist()) - set(['ITEM_ID', 'SESSION_ID', 'INTERESTED']))"
   ]
  },
  {
   "cell_type": "code",
   "execution_count": 34,
   "metadata": {},
   "outputs": [
    {
     "data": {
      "text/plain": [
       "<matplotlib.axes._subplots.AxesSubplot at 0xc8ca7b8>"
      ]
     },
     "execution_count": 34,
     "metadata": {},
     "output_type": "execute_result"
    },
    {
     "data": {
      "image/png": "[encoded data removed]",
      "text/plain": [
       "<matplotlib.figure.Figure at 0xcd9a668>"
      ]
     },
     "metadata": {},
     "output_type": "display_data"
    }
   ],
   "source": [
    "f, axarray = plt.subplots(1,1,figsize=(15,8))\n",
    "plt.xticks(rotation = 'vertical')\n",
    "axarray.set_title('Contagem de Valor')\n",
    "\n",
    "bins = df[car_cols].count()\n",
    "\n",
    "sns.barplot(ax=axarray,\n",
    "            x=bins.values,\n",
    "            y=bins.index,\n",
    "            orient='h')"
   ]
  },
  {
   "cell_type": "code",
   "execution_count": 35,
   "metadata": {},
   "outputs": [
    {
     "data": {
      "text/html": [
       "<div>\n",
       "<table border=\"1\" class=\"dataframe\">\n",
       "  <thead>\n",
       "    <tr style=\"text-align: right;\">\n",
       "      <th></th>\n",
       "      <th>MARCA: BRINOX</th>\n",
       "      <th>MARCA: EURO</th>\n",
       "      <th>PARA_LAVA_LOUCAS</th>\n",
       "      <th>COR: VERDE</th>\n",
       "      <th>MARCA: MTA</th>\n",
       "      <th>FORMATO: QUADRADO</th>\n",
       "      <th>TIPO_PRODUTO: PANELA</th>\n",
       "      <th>PARA_MICRO_ONDAS</th>\n",
       "      <th>MARCA: VEC</th>\n",
       "      <th>MARCA: FUMIL</th>\n",
       "      <th>...</th>\n",
       "      <th>PESO</th>\n",
       "      <th>COMPOSICAO: ALUMINIO</th>\n",
       "      <th>ITEM_PRICE</th>\n",
       "      <th>COMPOSICAO: INOX</th>\n",
       "      <th>ALTURA</th>\n",
       "      <th>TIPO_PRODUTO: ASSADEIRA</th>\n",
       "      <th>MARCA: SUN GUIDER</th>\n",
       "      <th>MARCA: TRAMONTINA</th>\n",
       "      <th>MARCA: LA CUISINE</th>\n",
       "      <th>MARCA: PANELA MINEIRA</th>\n",
       "    </tr>\n",
       "  </thead>\n",
       "  <tbody>\n",
       "    <tr>\n",
       "      <th>count</th>\n",
       "      <td>180275.000000</td>\n",
       "      <td>180275.000000</td>\n",
       "      <td>180275.000000</td>\n",
       "      <td>180275.000000</td>\n",
       "      <td>180275.000000</td>\n",
       "      <td>180275.000000</td>\n",
       "      <td>180275.000000</td>\n",
       "      <td>180275.000000</td>\n",
       "      <td>180275.000000</td>\n",
       "      <td>180275.000000</td>\n",
       "      <td>...</td>\n",
       "      <td>180275.000000</td>\n",
       "      <td>180275.000000</td>\n",
       "      <td>180275.000000</td>\n",
       "      <td>180275.000000</td>\n",
       "      <td>180275.000000</td>\n",
       "      <td>180275.000000</td>\n",
       "      <td>180275.000000</td>\n",
       "      <td>180275.000000</td>\n",
       "      <td>180275.000000</td>\n",
       "      <td>180275.000000</td>\n",
       "    </tr>\n",
       "    <tr>\n",
       "      <th>mean</th>\n",
       "      <td>0.045181</td>\n",
       "      <td>0.024685</td>\n",
       "      <td>0.836522</td>\n",
       "      <td>0.013491</td>\n",
       "      <td>0.010689</td>\n",
       "      <td>0.027303</td>\n",
       "      <td>0.373818</td>\n",
       "      <td>0.027930</td>\n",
       "      <td>0.042868</td>\n",
       "      <td>0.032373</td>\n",
       "      <td>...</td>\n",
       "      <td>311.259118</td>\n",
       "      <td>0.762807</td>\n",
       "      <td>127.831019</td>\n",
       "      <td>0.224984</td>\n",
       "      <td>30.575636</td>\n",
       "      <td>0.096503</td>\n",
       "      <td>0.010928</td>\n",
       "      <td>0.406296</td>\n",
       "      <td>0.178843</td>\n",
       "      <td>0.072267</td>\n",
       "    </tr>\n",
       "    <tr>\n",
       "      <th>std</th>\n",
       "      <td>0.207701</td>\n",
       "      <td>0.155162</td>\n",
       "      <td>0.369802</td>\n",
       "      <td>0.115363</td>\n",
       "      <td>0.102835</td>\n",
       "      <td>0.162965</td>\n",
       "      <td>0.483817</td>\n",
       "      <td>0.164771</td>\n",
       "      <td>0.202560</td>\n",
       "      <td>0.176989</td>\n",
       "      <td>...</td>\n",
       "      <td>1277.150101</td>\n",
       "      <td>0.425363</td>\n",
       "      <td>132.216815</td>\n",
       "      <td>0.417573</td>\n",
       "      <td>14.469476</td>\n",
       "      <td>0.295280</td>\n",
       "      <td>0.103963</td>\n",
       "      <td>0.491142</td>\n",
       "      <td>0.383222</td>\n",
       "      <td>0.258931</td>\n",
       "    </tr>\n",
       "    <tr>\n",
       "      <th>min</th>\n",
       "      <td>0.000000</td>\n",
       "      <td>0.000000</td>\n",
       "      <td>0.000000</td>\n",
       "      <td>0.000000</td>\n",
       "      <td>0.000000</td>\n",
       "      <td>0.000000</td>\n",
       "      <td>0.000000</td>\n",
       "      <td>0.000000</td>\n",
       "      <td>0.000000</td>\n",
       "      <td>0.000000</td>\n",
       "      <td>...</td>\n",
       "      <td>0.619000</td>\n",
       "      <td>0.000000</td>\n",
       "      <td>0.550000</td>\n",
       "      <td>0.000000</td>\n",
       "      <td>2.000000</td>\n",
       "      <td>0.000000</td>\n",
       "      <td>0.000000</td>\n",
       "      <td>0.000000</td>\n",
       "      <td>0.000000</td>\n",
       "      <td>0.000000</td>\n",
       "    </tr>\n",
       "    <tr>\n",
       "      <th>25%</th>\n",
       "      <td>0.000000</td>\n",
       "      <td>0.000000</td>\n",
       "      <td>1.000000</td>\n",
       "      <td>0.000000</td>\n",
       "      <td>0.000000</td>\n",
       "      <td>0.000000</td>\n",
       "      <td>0.000000</td>\n",
       "      <td>0.000000</td>\n",
       "      <td>0.000000</td>\n",
       "      <td>0.000000</td>\n",
       "      <td>...</td>\n",
       "      <td>160.000000</td>\n",
       "      <td>1.000000</td>\n",
       "      <td>81.311401</td>\n",
       "      <td>0.000000</td>\n",
       "      <td>19.600000</td>\n",
       "      <td>0.000000</td>\n",
       "      <td>0.000000</td>\n",
       "      <td>0.000000</td>\n",
       "      <td>0.000000</td>\n",
       "      <td>0.000000</td>\n",
       "    </tr>\n",
       "    <tr>\n",
       "      <th>50%</th>\n",
       "      <td>0.000000</td>\n",
       "      <td>0.000000</td>\n",
       "      <td>1.000000</td>\n",
       "      <td>0.000000</td>\n",
       "      <td>0.000000</td>\n",
       "      <td>0.000000</td>\n",
       "      <td>0.000000</td>\n",
       "      <td>0.000000</td>\n",
       "      <td>0.000000</td>\n",
       "      <td>0.000000</td>\n",
       "      <td>...</td>\n",
       "      <td>311.259118</td>\n",
       "      <td>1.000000</td>\n",
       "      <td>107.107222</td>\n",
       "      <td>0.000000</td>\n",
       "      <td>30.500000</td>\n",
       "      <td>0.000000</td>\n",
       "      <td>0.000000</td>\n",
       "      <td>0.000000</td>\n",
       "      <td>0.000000</td>\n",
       "      <td>0.000000</td>\n",
       "    </tr>\n",
       "    <tr>\n",
       "      <th>75%</th>\n",
       "      <td>0.000000</td>\n",
       "      <td>0.000000</td>\n",
       "      <td>1.000000</td>\n",
       "      <td>0.000000</td>\n",
       "      <td>0.000000</td>\n",
       "      <td>0.000000</td>\n",
       "      <td>1.000000</td>\n",
       "      <td>0.000000</td>\n",
       "      <td>0.000000</td>\n",
       "      <td>0.000000</td>\n",
       "      <td>...</td>\n",
       "      <td>311.259118</td>\n",
       "      <td>1.000000</td>\n",
       "      <td>139.900000</td>\n",
       "      <td>0.000000</td>\n",
       "      <td>42.700000</td>\n",
       "      <td>0.000000</td>\n",
       "      <td>0.000000</td>\n",
       "      <td>1.000000</td>\n",
       "      <td>0.000000</td>\n",
       "      <td>0.000000</td>\n",
       "    </tr>\n",
       "    <tr>\n",
       "      <th>max</th>\n",
       "      <td>1.000000</td>\n",
       "      <td>1.000000</td>\n",
       "      <td>1.000000</td>\n",
       "      <td>1.000000</td>\n",
       "      <td>1.000000</td>\n",
       "      <td>1.000000</td>\n",
       "      <td>1.000000</td>\n",
       "      <td>1.000000</td>\n",
       "      <td>1.000000</td>\n",
       "      <td>1.000000</td>\n",
       "      <td>...</td>\n",
       "      <td>44400.000000</td>\n",
       "      <td>1.000000</td>\n",
       "      <td>2274.990000</td>\n",
       "      <td>1.000000</td>\n",
       "      <td>84.000000</td>\n",
       "      <td>1.000000</td>\n",
       "      <td>1.000000</td>\n",
       "      <td>1.000000</td>\n",
       "      <td>1.000000</td>\n",
       "      <td>1.000000</td>\n",
       "    </tr>\n",
       "  </tbody>\n",
       "</table>\n",
       "<p>8 rows × 52 columns</p>\n",
       "</div>"
      ],
      "text/plain": [
       "       MARCA: BRINOX    MARCA: EURO  PARA_LAVA_LOUCAS     COR: VERDE  \\\n",
       "count  180275.000000  180275.000000     180275.000000  180275.000000   \n",
       "mean        0.045181       0.024685          0.836522       0.013491   \n",
       "std         0.207701       0.155162          0.369802       0.115363   \n",
       "min         0.000000       0.000000          0.000000       0.000000   \n",
       "25%         0.000000       0.000000          1.000000       0.000000   \n",
       "50%         0.000000       0.000000          1.000000       0.000000   \n",
       "75%         0.000000       0.000000          1.000000       0.000000   \n",
       "max         1.000000       1.000000          1.000000       1.000000   \n",
       "\n",
       "          MARCA: MTA  FORMATO: QUADRADO  TIPO_PRODUTO: PANELA  \\\n",
       "count  180275.000000      180275.000000         180275.000000   \n",
       "mean        0.010689           0.027303              0.373818   \n",
       "std         0.102835           0.162965              0.483817   \n",
       "min         0.000000           0.000000              0.000000   \n",
       "25%         0.000000           0.000000              0.000000   \n",
       "50%         0.000000           0.000000              0.000000   \n",
       "75%         0.000000           0.000000              1.000000   \n",
       "max         1.000000           1.000000              1.000000   \n",
       "\n",
       "       PARA_MICRO_ONDAS     MARCA: VEC   MARCA: FUMIL          ...            \\\n",
       "count     180275.000000  180275.000000  180275.000000          ...             \n",
       "mean           0.027930       0.042868       0.032373          ...             \n",
       "std            0.164771       0.202560       0.176989          ...             \n",
       "min            0.000000       0.000000       0.000000          ...             \n",
       "25%            0.000000       0.000000       0.000000          ...             \n",
       "50%            0.000000       0.000000       0.000000          ...             \n",
       "75%            0.000000       0.000000       0.000000          ...             \n",
       "max            1.000000       1.000000       1.000000          ...             \n",
       "\n",
       "                PESO  COMPOSICAO: ALUMINIO     ITEM_PRICE  COMPOSICAO: INOX  \\\n",
       "count  180275.000000         180275.000000  180275.000000     180275.000000   \n",
       "mean      311.259118              0.762807     127.831019          0.224984   \n",
       "std      1277.150101              0.425363     132.216815          0.417573   \n",
       "min         0.619000              0.000000       0.550000          0.000000   \n",
       "25%       160.000000              1.000000      81.311401          0.000000   \n",
       "50%       311.259118              1.000000     107.107222          0.000000   \n",
       "75%       311.259118              1.000000     139.900000          0.000000   \n",
       "max     44400.000000              1.000000    2274.990000          1.000000   \n",
       "\n",
       "              ALTURA  TIPO_PRODUTO: ASSADEIRA  MARCA: SUN GUIDER  \\\n",
       "count  180275.000000            180275.000000      180275.000000   \n",
       "mean       30.575636                 0.096503           0.010928   \n",
       "std        14.469476                 0.295280           0.103963   \n",
       "min         2.000000                 0.000000           0.000000   \n",
       "25%        19.600000                 0.000000           0.000000   \n",
       "50%        30.500000                 0.000000           0.000000   \n",
       "75%        42.700000                 0.000000           0.000000   \n",
       "max        84.000000                 1.000000           1.000000   \n",
       "\n",
       "       MARCA: TRAMONTINA  MARCA: LA CUISINE  MARCA: PANELA MINEIRA  \n",
       "count      180275.000000      180275.000000          180275.000000  \n",
       "mean            0.406296           0.178843               0.072267  \n",
       "std             0.491142           0.383222               0.258931  \n",
       "min             0.000000           0.000000               0.000000  \n",
       "25%             0.000000           0.000000               0.000000  \n",
       "50%             0.000000           0.000000               0.000000  \n",
       "75%             1.000000           0.000000               0.000000  \n",
       "max             1.000000           1.000000               1.000000  \n",
       "\n",
       "[8 rows x 52 columns]"
      ]
     },
     "execution_count": 35,
     "metadata": {},
     "output_type": "execute_result"
    }
   ],
   "source": [
    "df[car_cols].describe()"
   ]
  },
  {
   "cell_type": "markdown",
   "metadata": {},
   "source": [
    "# 1.2 Criar Outras Variáveis\n",
    "\n",
    "Podemos criar ourtas variáveis usando as caraterísticas que já exitem. Por exemplo podemos criar uma variavel chamado \"cor básica\" que esta 1 por produtos com cores de \"AZUL\", \"VERDE\", etc, e 0 por cores mais complicados como \"BERINGELA\". Mas aqui não vamos isso."
   ]
  },
  {
   "cell_type": "markdown",
   "metadata": {},
   "source": [
    "# 1.3 Explorar os Relacionamentos"
   ]
  },
  {
   "cell_type": "code",
   "execution_count": 36,
   "metadata": {},
   "outputs": [
    {
     "data": {
      "text/plain": [
       "52"
      ]
     },
     "execution_count": 36,
     "metadata": {},
     "output_type": "execute_result"
    }
   ],
   "source": [
    "len(car_cols)"
   ]
  },
  {
   "cell_type": "code",
   "execution_count": 37,
   "metadata": {},
   "outputs": [
    {
     "data": {
      "text/plain": [
       "<matplotlib.axes._subplots.AxesSubplot at 0xd220ef0>"
      ]
     },
     "execution_count": 37,
     "metadata": {},
     "output_type": "execute_result"
    },
    {
     "data": {
      "image/png": "[encoded data removed]",
      "text/plain": [
       "<matplotlib.figure.Figure at 0xd220748>"
      ]
     },
     "metadata": {},
     "output_type": "display_data"
    }
   ],
   "source": [
    "correlations = df[car_cols].corr()\n",
    "fig = plt.figure(figsize=(20,12))\n",
    "ax = fig.add_subplot(111)\n",
    "sns.heatmap(correlations, ax=ax)"
   ]
  },
  {
   "cell_type": "markdown",
   "metadata": {},
   "source": [
    "# 1.4 Alvo"
   ]
  },
  {
   "cell_type": "code",
   "execution_count": 38,
   "metadata": {},
   "outputs": [
    {
     "name": "stdout",
     "output_type": "stream",
     "text": [
      "Numero de registros sem alvo: 0\n"
     ]
    }
   ],
   "source": [
    "print('Numero de registros sem alvo:', len(df[df['INTERESTED'].isnull()]))"
   ]
  },
  {
   "cell_type": "code",
   "execution_count": 39,
   "metadata": {},
   "outputs": [
    {
     "data": {
      "text/plain": [
       "0.0    0.91387\n",
       "1.0    0.08613\n",
       "Name: INTERESTED, dtype: float64"
      ]
     },
     "execution_count": 39,
     "metadata": {},
     "output_type": "execute_result"
    }
   ],
   "source": [
    "df['INTERESTED'].value_counts()/df['INTERESTED'].value_counts().sum()"
   ]
  },
  {
   "cell_type": "markdown",
   "metadata": {},
   "source": [
    "Há 0 registros sem alvo e todos os dados são limpos, assim aqui não precisamos fazer nada, mas depois (Capítulo 2) vamos precisar provar os registros para cima ou para baixo para ter o mesmo número de 1s de 0s"
   ]
  },
  {
   "cell_type": "markdown",
   "metadata": {},
   "source": [
    "# 2 Criar Modelo\n",
    "\n",
    "Agora nós podemos criar o modelo, no centro disso é a nossa escolha de classificador. Uma coisa importante de nosso problema é que o cliente quer saber quais caraterísticas têm mais efeito, isso reduz o número de classificadores que nós podemos escolher. Vamos tentar métodos de Tree-Ensemble e regressão.  "
   ]
  },
  {
   "cell_type": "code",
   "execution_count": 40,
   "metadata": {},
   "outputs": [],
   "source": [
    "X = df[car_cols]\n",
    "Y = df['INTERESTED']"
   ]
  },
  {
   "cell_type": "markdown",
   "metadata": {},
   "source": [
    "# 2.1 Normalizar\n",
    "\n",
    "Vamos normalizar os dados, na verdade isso não é necessário por metodos de Tree Ensemble, mas é importa por regressão que vamos tentar mais tarde. Não normalizamos caraterísticas binárias."
   ]
  },
  {
   "cell_type": "code",
   "execution_count": 41,
   "metadata": {},
   "outputs": [],
   "source": [
    "norm = normalize(X[con_cols])\n",
    "non_con_cols = list(set(X.columns.tolist()) - set(con_cols))\n",
    "column_names = X[con_cols].columns.tolist()\n",
    "X = pd.concat([X[non_con_cols],pd.DataFrame(norm, columns=column_names)], axis=1)"
   ]
  },
  {
   "cell_type": "markdown",
   "metadata": {},
   "source": [
    "# 2.2 Divisão de Treino e Teste"
   ]
  },
  {
   "cell_type": "markdown",
   "metadata": {},
   "source": [
    "Primeiro vamos dividir o conjunto"
   ]
  },
  {
   "cell_type": "code",
   "execution_count": 42,
   "metadata": {},
   "outputs": [],
   "source": [
    "X_train, X_test, Y_train, Y_test = train_test_split(X, Y, test_size=0.2, random_state=42)"
   ]
  },
  {
   "cell_type": "markdown",
   "metadata": {},
   "source": [
    "Segundo vamos equilibrar as classes, por isso vamos up-scale a quantidade de 1s, porque há muito 0s e nós não queremos perder 90% de nossos dados. É importante fazermos o up-scaling segundo porque senão parte de nosso conjunto de treino poderia passar dentro do nosso conjunto de teste e faria a nossa precisão errada."
   ]
  },
  {
   "cell_type": "code",
   "execution_count": 43,
   "metadata": {},
   "outputs": [],
   "source": [
    "sm = RandomOverSampler()\n",
    "X_train, Y_train = sm.fit_sample(X_train, Y_train)\n",
    "X_test, Y_test = sm.fit_sample(X_test, Y_test)"
   ]
  },
  {
   "cell_type": "code",
   "execution_count": 44,
   "metadata": {},
   "outputs": [
    {
     "name": "stdout",
     "output_type": "stream",
     "text": [
      "Tomanho de conjunto de treino: 263722\n",
      "Tomanho de conjunto de teste: 65774\n",
      "Relação de 1s para 0s no treino: 0.5\n",
      "Relação de 1s para 0s no teste: 0.5\n"
     ]
    }
   ],
   "source": [
    "print('Tomanho de conjunto de treino:', len(X_train))\n",
    "print('Tomanho de conjunto de teste:', len(X_test))\n",
    "\n",
    "print('Relação de 1s para 0s no treino:', Y_train.sum()/len(Y_train))\n",
    "print('Relação de 1s para 0s no teste:', Y_train.sum()/len(Y_train))"
   ]
  },
  {
   "cell_type": "markdown",
   "metadata": {},
   "source": [
    "# 2.3 Fazer Classificador"
   ]
  },
  {
   "cell_type": "markdown",
   "metadata": {},
   "source": [
    "# 2.3.1 Métodos de Tree Ensemble "
   ]
  },
  {
   "cell_type": "markdown",
   "metadata": {},
   "source": [
    "# 2.3.1.1 Random Forest"
   ]
  },
  {
   "cell_type": "markdown",
   "metadata": {},
   "source": [
    "Aqui vamos treinar o classificador, e mudar os hyper-parâmetros para melhorar a precisão de cross-validation. Usamos a precisão de cross-validation assim não over-fit para o conjunto de teste."
   ]
  },
  {
   "cell_type": "code",
   "execution_count": 45,
   "metadata": {},
   "outputs": [
    {
     "data": {
      "text/plain": [
       "0.80135142157126182"
      ]
     },
     "execution_count": 45,
     "metadata": {},
     "output_type": "execute_result"
    }
   ],
   "source": [
    "clf = RandomForestClassifier(n_estimators=10, \n",
    "                             max_depth=None,\n",
    "                             min_samples_split=2, \n",
    "                             random_state=0)\n",
    "scores = cross_val_score(clf, X_train, Y_train)\n",
    "scores.mean()   "
   ]
  },
  {
   "cell_type": "code",
   "execution_count": 46,
   "metadata": {},
   "outputs": [
    {
     "data": {
      "text/plain": [
       "0.801707857572727"
      ]
     },
     "execution_count": 46,
     "metadata": {},
     "output_type": "execute_result"
    }
   ],
   "source": [
    "clf = RandomForestClassifier(n_estimators=100, \n",
    "                             max_depth=None,\n",
    "                             min_samples_split=2, \n",
    "                             random_state=0)\n",
    "scores = cross_val_score(clf, X_train, Y_train)\n",
    "scores.mean()   "
   ]
  },
  {
   "cell_type": "markdown",
   "metadata": {},
   "source": [
    "# 2.3.1.2 Extra Trees"
   ]
  },
  {
   "cell_type": "code",
   "execution_count": 47,
   "metadata": {},
   "outputs": [
    {
     "data": {
      "text/plain": [
       "0.80174956775931772"
      ]
     },
     "execution_count": 47,
     "metadata": {},
     "output_type": "execute_result"
    }
   ],
   "source": [
    "clf = ExtraTreesClassifier(n_estimators=10, \n",
    "                           max_depth=None,\n",
    "                           min_samples_split=2, \n",
    "                           random_state=0)\n",
    "scores = cross_val_score(clf, X_train, Y_train)\n",
    "scores.mean()   "
   ]
  },
  {
   "cell_type": "code",
   "execution_count": 48,
   "metadata": {},
   "outputs": [
    {
     "data": {
      "text/plain": [
       "0.80177231933486437"
      ]
     },
     "execution_count": 48,
     "metadata": {},
     "output_type": "execute_result"
    }
   ],
   "source": [
    "clf = ExtraTreesClassifier(n_estimators=100, \n",
    "                           max_depth=None,\n",
    "                           min_samples_split=2, \n",
    "                           random_state=0)\n",
    "scores = cross_val_score(clf, X_train, Y_train)\n",
    "scores.mean()   "
   ]
  },
  {
   "cell_type": "markdown",
   "metadata": {},
   "source": [
    "# 2.3.2 Regressão Logística"
   ]
  },
  {
   "cell_type": "code",
   "execution_count": 49,
   "metadata": {},
   "outputs": [
    {
     "name": "stdout",
     "output_type": "stream",
     "text": [
      "0.568218444978\n"
     ]
    }
   ],
   "source": [
    "m = LogisticRegression()\n",
    "m.fit(X_train, Y_train)\n",
    "\n",
    "print(m.score(X_test, Y_test))"
   ]
  },
  {
   "cell_type": "markdown",
   "metadata": {},
   "source": [
    "# 2.4 Escolher o Melhor Classificador"
   ]
  },
  {
   "cell_type": "markdown",
   "metadata": {},
   "source": [
    "Podemos ver que não há muitas diferenças entre o tipos dos classificadores de árvores, e usando mais árvores não da uma grande melhoria para nós mas o tempo aumenta muito, assim vamos usar Extra-Trees com 10 arvores.\n",
    "\n",
    "Regressão logística foi muito pior, talvez a fronteira não é singular e assim regressão logística não vai funcionar bem."
   ]
  },
  {
   "cell_type": "code",
   "execution_count": 50,
   "metadata": {
    "collapsed": true
   },
   "outputs": [],
   "source": [
    "clf = ExtraTreesClassifier(n_estimators=10, \n",
    "                           max_depth=None,\n",
    "                           min_samples_split=2, \n",
    "                           random_state=0)\n",
    "clf = clf.fit(X_train, Y_train)"
   ]
  },
  {
   "cell_type": "markdown",
   "metadata": {},
   "source": [
    "# 2.5 Testar"
   ]
  },
  {
   "cell_type": "code",
   "execution_count": 51,
   "metadata": {
    "collapsed": true
   },
   "outputs": [],
   "source": [
    "# Uma função para ajudar com visualização. Escrevi isso antes e estou usando aqui assim tudo é em ingles desculpe.\n",
    "\n",
    "def plot_confusion_matrix(cm, classes,\n",
    "                          normalize=False,\n",
    "                          title='Confusion matrix',\n",
    "                          cmap=plt.cm.Blues):\n",
    "    \"\"\"\n",
    "    This function prints and plots the confusion matrix.\n",
    "    Normalization can be applied by setting `normalize=True`.\n",
    "\n",
    "    :param cm: Confusion matrix\n",
    "    :param classes: Python list of class names\n",
    "    :param normalize: Boolean to normalize the matrix\n",
    "    :param title: Title of the graph\n",
    "    :param cmap: Colour map\n",
    "    \"\"\"\n",
    "\n",
    "    plt.imshow(cm, interpolation='nearest', cmap=cmap)\n",
    "    plt.title(title)\n",
    "    plt.colorbar()\n",
    "    tick_marks = np.arange(len(classes))\n",
    "    plt.xticks(tick_marks, classes, rotation=45)\n",
    "    plt.yticks(tick_marks, classes)\n",
    "\n",
    "    if normalize:\n",
    "        cm = cm.astype('float') / cm.sum(axis=1)[:, np.newaxis]\n",
    "        print(\"Normalized confusion matrix\")\n",
    "    else:\n",
    "        print('Confusion matrix, without normalization')\n",
    "\n",
    "    print(cm)\n",
    "\n",
    "    thresh = cm.max() / 2.\n",
    "    for i, j in itertools.product(range(cm.shape[0]), range(cm.shape[1])):\n",
    "        plt.text(j, i, \"{:.2f}\".format(cm[i, j]),\n",
    "                 horizontalalignment=\"center\",\n",
    "                 color=\"white\" if cm[i, j] > thresh else \"black\")\n",
    "\n",
    "    plt.tight_layout()\n",
    "    plt.ylabel('True label')\n",
    "    plt.xlabel('Predicted label')\n"
   ]
  },
  {
   "cell_type": "code",
   "execution_count": 52,
   "metadata": {},
   "outputs": [
    {
     "name": "stdout",
     "output_type": "stream",
     "text": [
      "Precisão: 0.768130264238\n",
      "Confusion matrix, without normalization\n",
      "[[23134  9753]\n",
      " [ 5498 27389]]\n"
     ]
    },
    {
     "data": {
      "image/png": "[encoded data removed]",
      "text/plain": [
       "<matplotlib.figure.Figure at 0xd273668>"
      ]
     },
     "metadata": {},
     "output_type": "display_data"
    }
   ],
   "source": [
    "print(\"Precisão:\", clf.score(X_test, Y_test))\n",
    "\n",
    "Y_pred = clf.predict(X_test)\n",
    "\n",
    "cfm = confusion_matrix(Y_test, Y_pred)\n",
    "plot_confusion_matrix(cfm, classes=[0,1])"
   ]
  },
  {
   "cell_type": "markdown",
   "metadata": {},
   "source": [
    "Podemos ver duas coisas: \n",
    "    1. A nossa precisão caiu quando usamos o conjunto de teste, isso é normal particularmente porque usamos up-scaling para obter mais alvos com valor 1. \n",
    "    2. Nós prevemos mais erros de tipo 1, assim quando damos para o cliente podemos explicar isso e eles podem ajustar de acordo"
   ]
  },
  {
   "cell_type": "markdown",
   "metadata": {},
   "source": [
    "# 2.6 Importância das Caraterísticas"
   ]
  },
  {
   "cell_type": "markdown",
   "metadata": {},
   "source": [
    "# 2.6.1 Importância\n",
    "\n",
    "Primeiro vamos olhar nas importâncias das caraterísticas, estes volres não dizem se um caraterística é bom pra ter ou não, mas esta análise nos conta onde nos deveriamos colocar o nosso dinheiro fazendo pesquisa. "
   ]
  },
  {
   "cell_type": "code",
   "execution_count": 53,
   "metadata": {},
   "outputs": [
    {
     "data": {
      "text/html": [
       "<div>\n",
       "<table border=\"1\" class=\"dataframe\">\n",
       "  <thead>\n",
       "    <tr style=\"text-align: right;\">\n",
       "      <th></th>\n",
       "      <th>Caraterísticas</th>\n",
       "      <th>Importações</th>\n",
       "    </tr>\n",
       "  </thead>\n",
       "  <tbody>\n",
       "    <tr>\n",
       "      <th>48</th>\n",
       "      <td>PESO</td>\n",
       "      <td>0.140281</td>\n",
       "    </tr>\n",
       "    <tr>\n",
       "      <th>46</th>\n",
       "      <td>CAPACIDADE_(L)</td>\n",
       "      <td>0.138052</td>\n",
       "    </tr>\n",
       "    <tr>\n",
       "      <th>51</th>\n",
       "      <td>ITEM_PRICE</td>\n",
       "      <td>0.137705</td>\n",
       "    </tr>\n",
       "    <tr>\n",
       "      <th>47</th>\n",
       "      <td>LARGURA</td>\n",
       "      <td>0.133640</td>\n",
       "    </tr>\n",
       "    <tr>\n",
       "      <th>50</th>\n",
       "      <td>TEMPO_GARANTIA</td>\n",
       "      <td>0.132591</td>\n",
       "    </tr>\n",
       "  </tbody>\n",
       "</table>\n",
       "</div>"
      ],
      "text/plain": [
       "    Caraterísticas  Importações\n",
       "48            PESO     0.140281\n",
       "46  CAPACIDADE_(L)     0.138052\n",
       "51      ITEM_PRICE     0.137705\n",
       "47         LARGURA     0.133640\n",
       "50  TEMPO_GARANTIA     0.132591"
      ]
     },
     "execution_count": 53,
     "metadata": {},
     "output_type": "execute_result"
    }
   ],
   "source": [
    "importações = pd.DataFrame(np.array([X.columns.tolist(), clf.feature_importances_]).T, columns=['Caraterísticas', 'Importações'])\n",
    "importações['Importações'] = importações['Importações'].astype(np.float64)\n",
    "importações = importações.sort_values(by='Importações', ascending=False)\n",
    "importações[:5]"
   ]
  },
  {
   "cell_type": "code",
   "execution_count": 54,
   "metadata": {},
   "outputs": [
    {
     "data": {
      "text/plain": [
       "<matplotlib.axes._subplots.AxesSubplot at 0xdcd0898>"
      ]
     },
     "execution_count": 54,
     "metadata": {},
     "output_type": "execute_result"
    },
    {
     "data": {
      "image/png": "[encoded data removed]",
      "text/plain": [
       "<matplotlib.figure.Figure at 0xdca8be0>"
      ]
     },
     "metadata": {},
     "output_type": "display_data"
    }
   ],
   "source": [
    "f, axarray = plt.subplots(1,1,figsize=(15,8))\n",
    "axarray.set_title('Importações das Caraterísticas')\n",
    "\n",
    "sns.barplot(ax=axarray,\n",
    "            x=importações['Importações'],\n",
    "            y=importações['Caraterísticas'])"
   ]
  },
  {
   "cell_type": "markdown",
   "metadata": {},
   "source": [
    "# 2.6.2 Correlações\n",
    "\n",
    "Para nos ajudar aprender mais sobre quais caraterísticas são boas e quais são machucando os produtos podemos olhar para as correlções das carateristícas com o alvo. Uma correlação menos de 0 significa que quando o valor dessa caraterística esta mais baixo (ou 0 (não tem) para caraterísticas binarias) pessoas tem menos interesse no producto, para correlações maior do 0 este significa que quando a caraterística esta mais alto (ou 1 (tem) para caraterísticas binarias) pessoas tem mais interesse no producto."
   ]
  },
  {
   "cell_type": "code",
   "execution_count": 55,
   "metadata": {},
   "outputs": [],
   "source": [
    "correlações_tudo = df[car_cols+['INTERESTED']].corr()\n",
    "correlações = correlações_tudo['INTERESTED']\n",
    "correlações = correlações.drop('INTERESTED', 0)"
   ]
  },
  {
   "cell_type": "code",
   "execution_count": 56,
   "metadata": {},
   "outputs": [
    {
     "data": {
      "text/plain": [
       "<matplotlib.axes._subplots.AxesSubplot at 0x102f5668>"
      ]
     },
     "execution_count": 56,
     "metadata": {},
     "output_type": "execute_result"
    },
    {
     "data": {
      "image/png": "[encoded data removed]",
      "text/plain": [
       "<matplotlib.figure.Figure at 0x102fda90>"
      ]
     },
     "metadata": {},
     "output_type": "display_data"
    }
   ],
   "source": [
    "f, axarray = plt.subplots(1,1,figsize=(15,8))\n",
    "axarray.set_title('Correlações das Caraterísticas')\n",
    "\n",
    "sns.barplot(ax=axarray,\n",
    "            x=correlações.values,\n",
    "            y=correlações.index)"
   ]
  },
  {
   "cell_type": "markdown",
   "metadata": {},
   "source": [
    "# 2.6.3 Foco\n",
    "\n",
    "Finalmente vamos combinar as importâncias e correlações dento um valor chamado \"foco\", este é o valor nos vamos apresentar para o cliente porque o valor tem informação em se uma caraterística é importa, e o que eles precisam fazer com as caraterísticas importas para faz mais produtos interessante."
   ]
  },
  {
   "cell_type": "code",
   "execution_count": 57,
   "metadata": {},
   "outputs": [],
   "source": [
    "correlações = pd.DataFrame(correlações).reset_index()\n",
    "correlações.rename(columns={'index':'Caraterísticas', 'INTERESTED':'Correlações'}, inplace=True)\n",
    "importações = pd.merge(importações, correlações, how='inner', on='Caraterísticas')\n",
    "importações['Foco'] = importações['Importações']*importações['Correlações']\n",
    "importações = importações.sort_values(by='Foco', ascending=False)"
   ]
  },
  {
   "cell_type": "code",
   "execution_count": 58,
   "metadata": {},
   "outputs": [
    {
     "data": {
      "text/html": [
       "<div>\n",
       "<table border=\"1\" class=\"dataframe\">\n",
       "  <thead>\n",
       "    <tr style=\"text-align: right;\">\n",
       "      <th></th>\n",
       "      <th>Caraterísticas</th>\n",
       "      <th>Importações</th>\n",
       "      <th>Correlações</th>\n",
       "      <th>Foco</th>\n",
       "    </tr>\n",
       "  </thead>\n",
       "  <tbody>\n",
       "    <tr>\n",
       "      <th>5</th>\n",
       "      <td>ALTURA</td>\n",
       "      <td>0.124268</td>\n",
       "      <td>0.012796</td>\n",
       "      <td>0.001590</td>\n",
       "    </tr>\n",
       "    <tr>\n",
       "      <th>1</th>\n",
       "      <td>CAPACIDADE_(L)</td>\n",
       "      <td>0.138052</td>\n",
       "      <td>0.004132</td>\n",
       "      <td>0.000570</td>\n",
       "    </tr>\n",
       "    <tr>\n",
       "      <th>7</th>\n",
       "      <td>TEM_TAMPA</td>\n",
       "      <td>0.005511</td>\n",
       "      <td>0.020278</td>\n",
       "      <td>0.000112</td>\n",
       "    </tr>\n",
       "    <tr>\n",
       "      <th>24</th>\n",
       "      <td>MARCA: VEC</td>\n",
       "      <td>0.001986</td>\n",
       "      <td>0.026100</td>\n",
       "      <td>0.000052</td>\n",
       "    </tr>\n",
       "    <tr>\n",
       "      <th>26</th>\n",
       "      <td>TIPO_PRODUTO: BULE E CHALEIRA</td>\n",
       "      <td>0.001886</td>\n",
       "      <td>0.026130</td>\n",
       "      <td>0.000049</td>\n",
       "    </tr>\n",
       "  </tbody>\n",
       "</table>\n",
       "</div>"
      ],
      "text/plain": [
       "                   Caraterísticas  Importações  Correlações      Foco\n",
       "5                          ALTURA     0.124268     0.012796  0.001590\n",
       "1                  CAPACIDADE_(L)     0.138052     0.004132  0.000570\n",
       "7                       TEM_TAMPA     0.005511     0.020278  0.000112\n",
       "24                     MARCA: VEC     0.001986     0.026100  0.000052\n",
       "26  TIPO_PRODUTO: BULE E CHALEIRA     0.001886     0.026130  0.000049"
      ]
     },
     "execution_count": 58,
     "metadata": {},
     "output_type": "execute_result"
    }
   ],
   "source": [
    "importações[:5]"
   ]
  },
  {
   "cell_type": "code",
   "execution_count": 59,
   "metadata": {},
   "outputs": [
    {
     "data": {
      "text/html": [
       "<div>\n",
       "<table border=\"1\" class=\"dataframe\">\n",
       "  <thead>\n",
       "    <tr style=\"text-align: right;\">\n",
       "      <th></th>\n",
       "      <th>Caraterísticas</th>\n",
       "      <th>Importações</th>\n",
       "      <th>Correlações</th>\n",
       "      <th>Foco</th>\n",
       "    </tr>\n",
       "  </thead>\n",
       "  <tbody>\n",
       "    <tr>\n",
       "      <th>2</th>\n",
       "      <td>ITEM_PRICE</td>\n",
       "      <td>0.137705</td>\n",
       "      <td>-0.027669</td>\n",
       "      <td>-0.003810</td>\n",
       "    </tr>\n",
       "    <tr>\n",
       "      <th>3</th>\n",
       "      <td>LARGURA</td>\n",
       "      <td>0.133640</td>\n",
       "      <td>-0.013279</td>\n",
       "      <td>-0.001775</td>\n",
       "    </tr>\n",
       "    <tr>\n",
       "      <th>0</th>\n",
       "      <td>PESO</td>\n",
       "      <td>0.140281</td>\n",
       "      <td>-0.007270</td>\n",
       "      <td>-0.001020</td>\n",
       "    </tr>\n",
       "    <tr>\n",
       "      <th>6</th>\n",
       "      <td>PROFUNDIDADE</td>\n",
       "      <td>0.110361</td>\n",
       "      <td>-0.008374</td>\n",
       "      <td>-0.000924</td>\n",
       "    </tr>\n",
       "    <tr>\n",
       "      <th>4</th>\n",
       "      <td>TEMPO_GARANTIA</td>\n",
       "      <td>0.132591</td>\n",
       "      <td>-0.001189</td>\n",
       "      <td>-0.000158</td>\n",
       "    </tr>\n",
       "  </tbody>\n",
       "</table>\n",
       "</div>"
      ],
      "text/plain": [
       "   Caraterísticas  Importações  Correlações      Foco\n",
       "2      ITEM_PRICE     0.137705    -0.027669 -0.003810\n",
       "3         LARGURA     0.133640    -0.013279 -0.001775\n",
       "0            PESO     0.140281    -0.007270 -0.001020\n",
       "6    PROFUNDIDADE     0.110361    -0.008374 -0.000924\n",
       "4  TEMPO_GARANTIA     0.132591    -0.001189 -0.000158"
      ]
     },
     "execution_count": 59,
     "metadata": {},
     "output_type": "execute_result"
    }
   ],
   "source": [
    "importações.sort_values(by='Foco', ascending=True)[:5]"
   ]
  },
  {
   "cell_type": "markdown",
   "metadata": {},
   "source": [
    "# 2.7 Intuições\n",
    "\n",
    " - Podemos ver aqui que o preço de produto é com o maior valor de foco, é claro pra ver que pessoa não gostam gastando tantos dinheiro, mas o que é interessante é que isso é a maior causa de pessoas não tendo interesse nos produtos, assim a coisa mais importa fazer é ficar o preço barato.\n",
    " - A mesma importância do preço é a largura dos produtos. As pessoas não gostam de grande largura, mas a correlação é menos aqui, com a mesma importância isso significa que alguns productos com grandes larguras foram de interesse. Acho isso é uma area por mais pesquisa.\n",
    " - Peso foi a caraterística mais importa, mas a correlação não é muito forte. Isso significa que peso é bi-modo, por alguns produtos uma grande peso é uma coisa boa, por outros eles precisam ser leves, mas por cada produto o peso seria uma principal preocupação."
   ]
  },
  {
   "cell_type": "code",
   "execution_count": null,
   "metadata": {
    "collapsed": true
   },
   "outputs": [],
   "source": []
  }
 ],
 "metadata": {
  "kernelspec": {
   "display_name": "Python 3",
   "language": "python",
   "name": "python3"
  },
  "language_info": {
   "codemirror_mode": {
    "name": "ipython",
    "version": 3
   },
   "file_extension": ".py",
   "mimetype": "text/x-python",
   "name": "python",
   "nbconvert_exporter": "python",
   "pygments_lexer": "ipython3",
   "version": "3.6.5"
  }
 },
 "nbformat": 4,
 "nbformat_minor": 2
}
