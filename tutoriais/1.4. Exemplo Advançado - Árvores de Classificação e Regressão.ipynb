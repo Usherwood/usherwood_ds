{
 "cells": [
  {
   "cell_type": "markdown",
   "metadata": {},
   "source": [
    "__author__ = \"Peter J Usherwood\"\n",
    "\n",
    "Esta tutorial é um exemplo de um aplicação em Python padrão, sem pacotes não padrão. Porque de isto, este codigo não é o mais simples ou eficiente, mas é transparente e um bom ferremento para apreder ambos Python, e cassificadores de apredizado de máquina. Isto é um aplicação útil tambem, vai dar os mesmos resultados de outros pactoes.\n",
    "\n",
    "A aplicação nos vamos criar aqui é uma árvore de classificação. Uma árvore de classificação é um modelo de apredizado de maquinas classical que é usado para prever a classe de algumas observaçoes. este tecnico é usado hoje em muitas apliçoes comercial. É um modelo que aprende sobre lendo muitos exemplos de dados onde a classe é conhecido para aprender as regras que assina os arquivos para uma classe."
   ]
  },
  {
   "cell_type": "code",
   "execution_count": 1,
   "metadata": {},
   "outputs": [],
   "source": [
    "from random import seed\n",
    "from random import randrange\n",
    "import random\n",
    "from csv import reader\n",
    "from math import sqrt\n",
    "import copy"
   ]
  },
  {
   "cell_type": "markdown",
   "metadata": {},
   "source": [
    "# Carregando os dados e pre-procesamento\n",
    "\n",
    "Antes que nos comecamos criando a nossa árvore de classificação nos precisamos criar algumas funçoes que vamos nos ajudar. Primeiro nos precisamos "
   ]
  },
  {
   "cell_type": "code",
   "execution_count": 2,
   "metadata": {},
   "outputs": [],
   "source": [
    "# carregar o arquivo de CSV\n",
    "def carregar_csv(nome_arquivo):\n",
    "    dados = list()\n",
    "    with open(nome_arquivo, 'r') as arquivo:\n",
    "        leitor_csv = reader(arquivo)\n",
    "        for linha in leitor_csv:\n",
    "            if not linha:\n",
    "                continue\n",
    "            dados.append(linha)\n",
    "    return dados\n",
    "        \n",
    "def str_coluna_para_int(dados, coluna):\n",
    "    classe = [row[column] for row in dataset]\n",
    "    unique = set(class_values)\n",
    "    lookup = dict()\n",
    "    for i, value in enumerate(unique):\n",
    "        lookup[value] = i\n",
    "    for row in dataset:\n",
    "        row[column] = lookup[row[column]]\n",
    "    return lookup\n",
    "\n",
    "# Convert string column to float\n",
    "def str_column_to_float(dataset, column):\n",
    "    \n",
    "    column = column\n",
    "    dataset_copy = copy.deepcopy(dataset)\n",
    "    \n",
    "    for row in dataset_copy:\n",
    "        row[column] = float(row[column].strip())\n",
    "    \n",
    "    return dataset_copy"
   ]
  },
  {
   "cell_type": "code",
   "execution_count": 3,
   "metadata": {},
   "outputs": [],
   "source": [
    "# carregar os dados\n",
    "arquivo = 'sonar_data.csv'\n",
    "dados = carregar_csv(arquivo)\n",
    "\n",
    "# converte atributos de string para números inteiros\n",
    "for i in range(0, len(dados[0])-1):\n",
    "    dados = str_column_to_float(dados, i)\n",
    "    \n",
    "dados_X = [linha[:-1] for linha in dados]\n",
    "dados_Y = [linha[-1] for linha in dados]"
   ]
  },
  {
   "cell_type": "markdown",
   "metadata": {},
   "source": [
    "Proximo nos precisamos fazer os dados tem a mesma quantidade de cada classe. Isso é importante por a maioria de classificadores em machine learning porque se não o classificador preveria o modo cada vez, porque isso daria a melhor precisão.\n",
    "\n",
    "Tambem nos precisamos dividir os nossos dados dentro dois conjuntos: um conjunto de trem, e um conjunto de teste. Nos nao vamos olhar com o nosso conjunto de teste, vamos só usar esse no fim para dar uma precisão. O trem nos usaremos para treinar a nossa árvore. Normalmente vamos usar 80% dos nossos dados para a treinar, 20% para a provar.\n",
    "\n",
    "Nos poderiamos fazer esses passos em o outro ordem, o resulto é mais ou menos a mesma."
   ]
  },
  {
   "cell_type": "code",
   "execution_count": 4,
   "metadata": {},
   "outputs": [],
   "source": [
    "def equilibrar_as_classes(dados_X, dados_Y):\n",
    "\n",
    "    classes = set(dados_Y)\n",
    "    conta_min = len(dados_Y)\n",
    "    \n",
    "    for classe in classes:\n",
    "        conta = dados_Y.count(classe)\n",
    "        if conta < conta_min:\n",
    "            conta_min = conta\n",
    "            \n",
    "    dados_igual_X = []\n",
    "    dados_igual_Y = []\n",
    "    indíces = set()\n",
    "    \n",
    "    for classe in classes:\n",
    "        while len(dados_igual_Y) < len(classes)*conta_min:\n",
    "            indíce = random.randint(0,len(dados_X)-1)\n",
    "            classe = dados_Y[indíce]\n",
    "\n",
    "            if (indíce not in indíces) and (dados_igual_Y.count(classe) < conta_min):\n",
    "                indíces.update([indíce])\n",
    "                dados_igual_X.append(dados_X[indíce])\n",
    "                dados_igual_Y.append(dados_Y[indíce])\n",
    "    \n",
    "    return dados_igual_X, dados_igual_Y\n",
    "\n",
    "def criar_divisão_treinar_teste(dados_X, dados_Y, relação=.8):\n",
    "    \n",
    "    classes = set(dados_Y)\n",
    "    n_classes = len(classes)\n",
    "    \n",
    "    trem_classe_tamanho = int((len(dados_Y)*relação)/n_classes)\n",
    "    \n",
    "    indíces_todo = set(range(len(dados_X)))\n",
    "    indíces_para_escolher = set(range(len(dados_X)))\n",
    "    indíces = set()\n",
    "    \n",
    "    trem_X = []\n",
    "    trem_Y = []\n",
    "    teste_X = []\n",
    "    teste_Y = []\n",
    "    \n",
    "    while len(trem_Y) < trem_classe_tamanho*n_classes:\n",
    "\n",
    "        indíce = random.choice(list(indíces_para_escolher))\n",
    "        indíces_para_escolher.remove(indíce)\n",
    "        classe = dados_Y[indíce]\n",
    "\n",
    "        if (trem_Y.count(classe) < trem_classe_tamanho):\n",
    "            \n",
    "                indíces.update([indíce])\n",
    "                trem_X.append(dados_X[indíce])\n",
    "                trem_Y.append(dados_Y[indíce])\n",
    "                \n",
    "    indíces_teste = indíces_todo - indíces\n",
    "    \n",
    "    for indíce in indíces_teste:\n",
    "        \n",
    "        teste_X.append(dados_X[indíce])\n",
    "        teste_Y.append(dados_Y[indíce])  \n",
    "        \n",
    "    return trem_X, trem_Y, teste_X, teste_Y"
   ]
  },
  {
   "cell_type": "code",
   "execution_count": 5,
   "metadata": {},
   "outputs": [],
   "source": [
    "dados_igual_X, dados_igual_Y = equilibrar_as_classes(dados_X, dados_Y)\n",
    "treinar_X, treinar_Y, testar_X, testar_Y = criar_divisão_treinar_teste(dados_igual_X, dados_igual_Y, relação=.8)"
   ]
  },
  {
   "cell_type": "code",
   "execution_count": 6,
   "metadata": {},
   "outputs": [
    {
     "data": {
      "text/plain": [
       "40"
      ]
     },
     "execution_count": 6,
     "metadata": {},
     "output_type": "execute_result"
    }
   ],
   "source": [
    "len(testar_X)"
   ]
  },
  {
   "cell_type": "markdown",
   "metadata": {},
   "source": [
    "Proximo nos podemos começar construir a nossa árvore. \n",
    "\n",
    "A árvore vai funcionar de dividido os registros de dados dentro grupos onde a distribução de classes são distinto, ela vai fazer isso muitas vezes ate uma boa previsão pode feitado. \n",
    "\n",
    "Cada vez a árvore faz uma divisão é chamado um nó.\n",
    "\n",
    "Para fazeras divisões de um nó a árvore recebe um valor de dado, por uma característica, e olhando o que vai acontecer para a distribução dos classes se a árvore dividido todos os registros sobre essa valore, por esta característica. Se os classes sera em groupos com a diferencia maior, isso e bom. Para escolher qual valor de qual característica para usar, a árvore iterar atraves cada característica em cada registro dos dados. Então ela compara todas as divisões e eschole a melhor. A medida de quanto separado sáo os classes, é o gini indíce."
   ]
  },
  {
   "cell_type": "markdown",
   "metadata": {},
   "source": [
    "Para começar nos vamos criar a função que faz a divião por um nó, vamos chamar obter_melhor_divisão."
   ]
  },
  {
   "cell_type": "code",
   "execution_count": 16,
   "metadata": {},
   "outputs": [],
   "source": [
    "def obter_melhor_divisão(dados_X, dados_Y, n_características=None):\n",
    "    \"\"\"\n",
    "    Obter a melhor divisão pelo dados\n",
    "    \n",
    "    :param dados_X: Lista, o conjuncto de dados\n",
    "    :param dados_Y: Lista, os classes\n",
    "    :param n_características: Int, o numero de características para usar, quando você está usando a árvore sozinha fica \n",
    "    esta entrada em None\n",
    "    \n",
    "    :return: dicionário, pela melhor divisáo, o indíce da característica, o valor para dividir, e os groupos de registors\n",
    "    resultandos da divisão\n",
    "    \"\"\"\n",
    "    \n",
    "    classes = list(set(dados_Y)) #lista único de classes\n",
    "    b_indíce, b_valor, b_ponto, b_grupos = 999, 999, 999, None\n",
    "    \n",
    "    \"\"\"\n",
    "    # Addicionar os classes (dados_Y) para os registros\n",
    "    for i in range(len(dados_X)):\n",
    "        dados_X[i].append(dados_Y[i])\n",
    "        \n",
    "    dados = dados_X\n",
    "    \"\"\"\n",
    "    \n",
    "    if n_características is None:\n",
    "        n_características = len(dados_X[0])\n",
    "    \n",
    "    # Faz uma lista de características únicos para usar\n",
    "    características = list()\n",
    "    while len(características) < n_características:\n",
    "        indíce = randrange(len(dados_X[0]))\n",
    "        if indíce not in características:\n",
    "            características.append(indíce)\n",
    "    \n",
    "    \n",
    "    for indíce in características:\n",
    "        for registro in dados_X:\n",
    "            grupos = tentar_divisão(indíce, registro[indíce], dados_X, dados_Y)\n",
    "            gini = gini_indíce(grupos, classes)\n",
    "            if gini < b_ponto:\n",
    "                b_indíce, b_valor, b_ponto, b_grupos = indíce, registro[indíce], gini, grupos\n",
    "                \n",
    "    return {'indíce':b_indíce, 'valor':b_valor, 'grupos':b_grupos}\n",
    "\n",
    "\n",
    "def tentar_divisão(indíce, valor, dados_X, dados_Y):\n",
    "    \"\"\"\n",
    "    Dividir o dados sobre uma característica e o valor da caracaterística dele\n",
    "    \n",
    "    :param indíce: Int, o indíce da característica\n",
    "    :param valor: Float, o valor do indíce por um registro\n",
    "    :param dados_X: List, o conjuncto de dados\n",
    "    :param dados_Y: List, o conjuncto de classes\n",
    "    \n",
    "    :return: esquerda, direitaç duas listas de registros dividou de o valor de característica\n",
    "    \"\"\"\n",
    "    \n",
    "    esquerda_X, esquerda_Y, direita_X, direita_Y = [], [], [], []\n",
    "    \n",
    "    for linha_ix in range(len(dados_X)):\n",
    "        if dados_X[linha_ix][indíce] < valor:\n",
    "            esquerda_X.append(dados_X[linha_ix])\n",
    "            esquerda_Y.append(dados_Y[linha_ix])\n",
    "        else:\n",
    "            direita_X.append(dados_X[linha_ix])\n",
    "            direita_Y.append(dados_Y[linha_ix])\n",
    "            \n",
    "    return esquerda_X, esquerda_Y, direita_X, direita_Y\n",
    "\n",
    "\n",
    "def gini_indíce(grupos, classes):\n",
    "    \"\"\"\n",
    "    Calcular o indíce-Gini pelo dados diversão\n",
    "    \n",
    "    :param grupos: O grupo de registros\n",
    "    :param classes: O conjuncto de alvos\n",
    "    \n",
    "    :return: gini, Float a pontuação de pureza\n",
    "    \"\"\"\n",
    "    \n",
    "    grupos_X = grupos[0], grupos[2]\n",
    "    grupos_Y = grupos[1], grupos[3]\n",
    "    \n",
    "    n = len(grupos_X[0]) + len(grupos_X[1])\n",
    "    \n",
    "    gini = 0.0\n",
    "    for valor_alvo in classes:\n",
    "        for grupo_ix in [0,1]:\n",
    "            tomanho = len(grupos_X[grupo_ix])\n",
    "            if tomanho == 0:\n",
    "                continue\n",
    "            p = grupos_Y[grupo_ix].count(classes) / float(tomanho)\n",
    "            proporção = float(tomanho)/n\n",
    "            gini += (proporção * (1.0 - (p*p)))\n",
    "            \n",
    "    return gini"
   ]
  },
  {
   "cell_type": "code",
   "execution_count": 17,
   "metadata": {},
   "outputs": [
    {
     "name": "stdout",
     "output_type": "stream",
     "text": [
      "105\n",
      "105\n",
      "49\n",
      "49\n"
     ]
    }
   ],
   "source": [
    "grupos = obter_melhor_divisão(treinar_X, treinar_Y, n_características=None)['grupos']\n",
    "print(len(grupos[0]))\n",
    "print(len(grupos[1]))\n",
    "print(len(grupos[2]))\n",
    "print(len(grupos[3]))"
   ]
  },
  {
   "cell_type": "markdown",
   "metadata": {
    "collapsed": true
   },
   "source": [
    "Agora que nos podemos obter a melhor divisão uma vez, nos precisamos fazer isso muitas vezes, e volta a resposta da árvore "
   ]
  },
  {
   "cell_type": "code",
   "execution_count": 18,
   "metadata": {},
   "outputs": [],
   "source": [
    "def to_terminal(grupo_Y):\n",
    "    \"\"\"\n",
    "    Voltar o valor alvo para uma grupo no fim de uma filial\n",
    "    \n",
    "    :param grupo_Y: O conjuncto de classes em um lado de uma divisão\n",
    "    \n",
    "    :return: valor_de_alvo, Int \n",
    "    \"\"\"\n",
    "    \n",
    "    valor_de_alvo = max(set(grupo_Y), key=grupo_Y.count)\n",
    "    return valor_de_alvo\n",
    " \n",
    "    \n",
    "def dividir(nó_atual, profundidade_max, tamanho_min, n_características, depth):\n",
    "    \"\"\"\n",
    "    Recursivo, faz subdivisões por um nó ou faz um terminal\n",
    "\n",
    "    :param nó_atual: o nó estar analisado agora, vai mudar o root\n",
    "    :param profundidade_max: Int, o número máximo de iterações\n",
    "    :param tamanho_min: Int, o minimo numero de registros para dividr\n",
    "    :param depth: Int, o valor de nivel da profundiade atual\n",
    "    \"\"\"\n",
    "    \n",
    "    esquerda_X, esquerda_Y, direita_X, direita_Y = nó_atual['grupos']\n",
    "    del(nó_atual['grupos'])\n",
    "    \n",
    "    # provar por um nó onde um dos lados tem todos os dados\n",
    "    if not esquerda_X or not direita_X:\n",
    "        nó_atual['esquerda'] = nó_atual['direita'] = to_terminal(esquerda_Y + direita_Y)\n",
    "        return\n",
    "    \n",
    "    # provar por profundidade maximo\n",
    "    if depth >= profundidade_max:\n",
    "        nó_atual['esquerda'], nó_atual['direita'] = to_terminal(esquerda_Y), to_terminal(direita_Y)\n",
    "        return\n",
    "    \n",
    "    # processar o lado esquerda\n",
    "    if len(esquerda_X) <= tamanho_min:\n",
    "        nó_atual['esquerda'] = to_terminal(esquerda_Y)\n",
    "    else:\n",
    "        nó_atual['esquerda'] = obter_melhor_divisão(esquerda_X, esquerda_Y, n_características)\n",
    "        dividir(nó_atual['esquerda'], profundidade_max, tamanho_min, n_características, depth+1)\n",
    "\n",
    "    # processar o lado direita\n",
    "    if len(direita_X) <= tamanho_min:\n",
    "        nó_atual['direita'] = to_terminal(direita_Y)\n",
    "    else:\n",
    "        nó_atual['direita'] = obter_melhor_divisão(direita_X, direita_Y, n_características)\n",
    "        dividir(nó_atual['direita'], profundidade_max, tamanho_min, n_características, depth+1)\n"
   ]
  },
  {
   "cell_type": "markdown",
   "metadata": {},
   "source": [
    "Finalmente nos criamos uma função simples que nos vamos excecutar para criar a árvore."
   ]
  },
  {
   "cell_type": "code",
   "execution_count": 19,
   "metadata": {},
   "outputs": [],
   "source": [
    "def criar_árvore(treinar_X, treinar_Y, profundidade_max, tamanho_min, n_características):\n",
    "    \"\"\"\n",
    "    Criar árvore\n",
    "    \n",
    "    :param:\n",
    "    \n",
    "    \"\"\"\n",
    "    root = obter_melhor_divisão(treinar_X, treinar_Y, n_características)\n",
    "    dividir(root, profundidade_max, tamanho_min, n_características, 1)\n",
    "    return root"
   ]
  },
  {
   "cell_type": "markdown",
   "metadata": {},
   "source": [
    "E executar!"
   ]
  },
  {
   "cell_type": "code",
   "execution_count": 20,
   "metadata": {},
   "outputs": [],
   "source": [
    "n_características = len(dados_X[0])-1\n",
    "profundidade_max = 10\n",
    "tamanho_min = 1\n",
    "\n",
    "árvore = criar_árvore(treinar_X, treinar_Y, profundidade_max, tamanho_min, n_características)"
   ]
  },
  {
   "cell_type": "markdown",
   "metadata": {},
   "source": [
    "Agora nos podemos usar a nossa árvore para prever a classe de dados."
   ]
  },
  {
   "cell_type": "code",
   "execution_count": 21,
   "metadata": {},
   "outputs": [],
   "source": [
    "def prever(nó, linha):\n",
    "    if linha[nó['indíce']] < nó['valor']:\n",
    "        if isinstance(nó['esquerda'], dict):\n",
    "            return prever(nó['esquerda'], linha)\n",
    "        else:\n",
    "            return nó['esquerda']\n",
    "    else:\n",
    "        if isinstance(nó['direita'], dict):\n",
    "            return prever(nó['direita'], linha)\n",
    "        else:\n",
    "            return nó['direita']"
   ]
  },
  {
   "cell_type": "markdown",
   "metadata": {},
   "source": [
    "Agora nos podemos fazer preveções usando a nossa função prever, é melhor se nos usamos registros no nosso conjuncto de teste porque a árvore nao viu essas antes. Nos podemos fazer uma previção e depois comparar o resulto para a classe atual."
   ]
  },
  {
   "cell_type": "code",
   "execution_count": 22,
   "metadata": {},
   "outputs": [
    {
     "name": "stdout",
     "output_type": "stream",
     "text": [
      "A classe preveu da árvore é:  M\n",
      "A classe atual é:  M\n"
     ]
    }
   ],
   "source": [
    "testar_ix = 13\n",
    "\n",
    "print('A classe preveu da árvore é: ', str(prever(árvore, testar_X[testar_ix])))\n",
    "print('A classe atual é: ', str(testar_Y[testar_ix][-1]))"
   ]
  },
  {
   "cell_type": "markdown",
   "metadata": {},
   "source": [
    "Proximo nos vamos criar uma função que vai comparar tudos os registros no nosso conjunto de teste e da a precisão para nos. A precisão é definido de o por cento a árvore preveu corrigir. "
   ]
  },
  {
   "cell_type": "code",
   "execution_count": 23,
   "metadata": {},
   "outputs": [],
   "source": [
    "def precisão(teste_X, teste_Y, árvore):\n",
    "    \n",
    "    pontos = []\n",
    "    \n",
    "    for teste_ix in range(len(teste_X)):\n",
    "        preverção = prever(árvore, teste_X[teste_ix])\n",
    "        if preverção == teste_Y[teste_ix]:\n",
    "            pontos += [1]\n",
    "        else:\n",
    "            pontos += [0]\n",
    "            \n",
    "    precisão_valor = sum(pontos)/len(pontos)\n",
    "            \n",
    "    return precisão_valor, pontos"
   ]
  },
  {
   "cell_type": "code",
   "execution_count": 24,
   "metadata": {},
   "outputs": [
    {
     "data": {
      "text/plain": [
       "0.575"
      ]
     },
     "execution_count": 24,
     "metadata": {},
     "output_type": "execute_result"
    }
   ],
   "source": [
    "precisão_valor = precisão(testar_X, testar_Y, árvore)[0]\n",
    "precisão_valor"
   ]
  },
  {
   "cell_type": "code",
   "execution_count": null,
   "metadata": {},
   "outputs": [],
   "source": []
  },
  {
   "cell_type": "code",
   "execution_count": null,
   "metadata": {},
   "outputs": [],
   "source": []
  }
 ],
 "metadata": {
  "kernelspec": {
   "display_name": "Python 3",
   "language": "python",
   "name": "python3"
  },
  "language_info": {
   "codemirror_mode": {
    "name": "ipython",
    "version": 3
   },
   "file_extension": ".py",
   "mimetype": "text/x-python",
   "name": "python",
   "nbconvert_exporter": "python",
   "pygments_lexer": "ipython3",
   "version": "3.6.5"
  },
  "varInspector": {
   "cols": {
    "lenName": 16,
    "lenType": 16,
    "lenVar": 40
   },
   "kernels_config": {
    "python": {
     "delete_cmd_postfix": "",
     "delete_cmd_prefix": "del ",
     "library": "var_list.py",
     "varRefreshCmd": "print(var_dic_list())"
    },
    "r": {
     "delete_cmd_postfix": ") ",
     "delete_cmd_prefix": "rm(",
     "library": "var_list.r",
     "varRefreshCmd": "cat(var_dic_list()) "
    }
   },
   "types_to_exclude": [
    "module",
    "function",
    "builtin_function_or_method",
    "instance",
    "_Feature"
   ],
   "window_display": false
  }
 },
 "nbformat": 4,
 "nbformat_minor": 2
}
