{
 "cells": [
  {
   "cell_type": "markdown",
   "metadata": {},
   "source": [
    "__author__ = \"Peter J Usherwood\"\n",
    "\n",
    "Neste tutorial explicamos um dos atributos de python mais poderoso. Em todas as linguagem podemos usar outros pacotes para nos ajudar. Mas o fato que tudo o codigo de Python está distribuido como codigo fonte significa que podemos modificar eles e mais escrever e compatilhar nosso codigo facilmente."
   ]
  },
  {
   "cell_type": "markdown",
   "metadata": {},
   "source": [
    "# Importado Pacotes\n",
    "\n",
    "Qualquer pacote temos instalado ou em nosso PYTHONPATH (mais sobre isso depois) podemos importar. Temos alguns metodos para escrever a linha de import "
   ]
  },
  {
   "cell_type": "code",
   "execution_count": 1,
   "metadata": {},
   "outputs": [],
   "source": [
    "import sklearn"
   ]
  },
  {
   "cell_type": "markdown",
   "metadata": {},
   "source": [
    "Isso importar o pacote inteiro para nosso coidgo e RAM, poderia ser util porque agora podemos usar qualquer parte do pacote usando por exemplo:\n",
    "\n",
    "x = sklearn.ensemble.RandomForestClassifier()\n",
    "\n",
    "y = sklearn.ensemble.GradientBoostingClassifier()\n",
    "\n",
    "Mas este maineira tem dois problemas. É ineficiente para carregar tudo um pacote grande em nosso coidgo, tambêm poderia ser dificil para entender quais funcões estamos usando e ainda precisamos escrever muito codigo cada vez para accessar.\n",
    "\n",
    "Em vez pode usar:"
   ]
  },
  {
   "cell_type": "code",
   "execution_count": 2,
   "metadata": {},
   "outputs": [],
   "source": [
    "from sklearn.ensemble import RandomForestClassifier\n",
    "from sklearn.ensemble import GradientBoostingClassifier"
   ]
  },
  {
   "cell_type": "markdown",
   "metadata": {},
   "source": [
    "Agora só tem accesso pelos dois funções que nos queremos e podemos accessar eles usando o codigo:\n",
    "\n",
    "x = RandomForestClassifier()\n",
    "\n",
    "Alem disso podemos renomear os funções e classes que importamos para dar eles nomes mais curtos para usar:"
   ]
  },
  {
   "cell_type": "code",
   "execution_count": 3,
   "metadata": {},
   "outputs": [],
   "source": [
    "from sklearn.ensemble import RandomForestClassifier as RFC\n",
    "from sklearn.ensemble import GradientBoostingClassifier as GBC"
   ]
  },
  {
   "cell_type": "code",
   "execution_count": 4,
   "metadata": {},
   "outputs": [],
   "source": [
    "x = GBC()"
   ]
  },
  {
   "cell_type": "markdown",
   "metadata": {},
   "source": [
    "# Instalar Pacotes\n",
    "\n",
    "Para instalar pacotes que não temos a maioria podem instalado usando pip. Se voce não tem a pacote instalado voce vai ver um erro de 'ModuleNotFoundError'. Por exemplo:"
   ]
  },
  {
   "cell_type": "code",
   "execution_count": 6,
   "metadata": {},
   "outputs": [
    {
     "ename": "ModuleNotFoundError",
     "evalue": "No module named 'naoexiste'",
     "output_type": "error",
     "traceback": [
      "\u001b[1;31m---------------------------------------------------------------------------\u001b[0m",
      "\u001b[1;31mModuleNotFoundError\u001b[0m                       Traceback (most recent call last)",
      "\u001b[1;32m<ipython-input-6-13d58572effc>\u001b[0m in \u001b[0;36m<module>\u001b[1;34m()\u001b[0m\n\u001b[1;32m----> 1\u001b[1;33m \u001b[1;32mimport\u001b[0m \u001b[0mnaoexiste\u001b[0m \u001b[1;32mas\u001b[0m \u001b[0mne\u001b[0m\u001b[1;33m\u001b[0m\u001b[0m\n\u001b[0m",
      "\u001b[1;31mModuleNotFoundError\u001b[0m: No module named 'naoexiste'"
     ]
    }
   ],
   "source": [
    "import naoexiste as ne"
   ]
  },
  {
   "cell_type": "markdown",
   "metadata": {},
   "source": [
    "Normalmente voce pode instalar de usando um WIndows Command Prompt a colocando 'pip install <nome_do_pacote>'"
   ]
  },
  {
   "cell_type": "markdown",
   "metadata": {},
   "source": [
    "# Usando Nosso Pacotes\n",
    "\n",
    "Em python tudo que voce precisar para criar um pacote é uma pasta assim:\n",
    "\n",
    "pacote\n",
    "  - __init__.py\n",
    "  \n",
    "  - pacote\n",
    "    - __init__.py\n",
    "    \n",
    "    - codigo.py\n",
    " \n",
    "Onde:\n",
    "'pacote' é uma pasta com qualquer nome voce quer, mas o nome dele é o nome do seu pacote\n",
    "__init__.py é um arquivo vazio mas é necissario, qualquer pasta com um init python pode ler\n",
    "codigo.py é seu codigo.\n",
    "\n",
    "Se codigo.py tem um função chamado minha() para usar vamos fazer a chamada assim:"
   ]
  },
  {
   "cell_type": "code",
   "execution_count": 7,
   "metadata": {},
   "outputs": [
    {
     "ename": "ModuleNotFoundError",
     "evalue": "No module named 'pacote'",
     "output_type": "error",
     "traceback": [
      "\u001b[1;31m---------------------------------------------------------------------------\u001b[0m",
      "\u001b[1;31mModuleNotFoundError\u001b[0m                       Traceback (most recent call last)",
      "\u001b[1;32m<ipython-input-7-98048930a0a6>\u001b[0m in \u001b[0;36m<module>\u001b[1;34m()\u001b[0m\n\u001b[1;32m----> 1\u001b[1;33m \u001b[1;32mfrom\u001b[0m \u001b[0mpacote\u001b[0m\u001b[1;33m.\u001b[0m\u001b[0mcodigo\u001b[0m \u001b[1;32mimport\u001b[0m \u001b[0mminha\u001b[0m\u001b[1;33m\u001b[0m\u001b[0m\n\u001b[0m",
      "\u001b[1;31mModuleNotFoundError\u001b[0m: No module named 'pacote'"
     ]
    }
   ],
   "source": [
    "from pacote.codigo import minha"
   ]
  },
  {
   "cell_type": "code",
   "execution_count": 8,
   "metadata": {},
   "outputs": [],
   "source": [
    "# Um exemplo que vai funcionar\n",
    "\n",
    "from brasil_ds.utils.nlp.taxonomy.bycat import encoded_to_bycat_counts"
   ]
  },
  {
   "cell_type": "code",
   "execution_count": null,
   "metadata": {},
   "outputs": [],
   "source": []
  }
 ],
 "metadata": {
  "kernelspec": {
   "display_name": "Python 3",
   "language": "python",
   "name": "python3"
  },
  "language_info": {
   "codemirror_mode": {
    "name": "ipython",
    "version": 3
   },
   "file_extension": ".py",
   "mimetype": "text/x-python",
   "name": "python",
   "nbconvert_exporter": "python",
   "pygments_lexer": "ipython3",
   "version": "3.6.5"
  }
 },
 "nbformat": 4,
 "nbformat_minor": 2
}
