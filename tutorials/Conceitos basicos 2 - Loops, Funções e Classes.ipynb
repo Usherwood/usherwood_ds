{
 "cells": [
  {
   "cell_type": "markdown",
   "metadata": {},
   "source": [
    "__author__ = \"Peter J Usherwood\"\n",
    "\n",
    "# Loops, Declarações de Lógica, Funções e Classes\n",
    "\n",
    "Loops, funções, e classes compartilham um princípo similar em programação, eles ajudam com repetição."
   ]
  },
  {
   "cell_type": "markdown",
   "metadata": {},
   "source": [
    "# Os Loops\n",
    "\n",
    "Loop são o método por iterando através de listas, este ato nos permite para fazer o mesmo código para cada elemento de uma lista."
   ]
  },
  {
   "cell_type": "code",
   "execution_count": 7,
   "metadata": {
    "collapsed": false
   },
   "outputs": [
    {
     "name": "stdout",
     "output_type": "stream",
     "text": [
      "0\n",
      "5\n",
      "10\n",
      "3\n",
      "2\n",
      "\n",
      "\n",
      "[0, 20, 40, 12, 8]\n",
      "[0, 20, 40, 12, 8]\n"
     ]
    }
   ],
   "source": [
    "a = [0,5,10,3,2]\n",
    "\n",
    "for elemento in a: # 'for' e 'in' são palavres chaves, 'elemento' é só um nome variável\n",
    "    print(elemento) # O travessão é muito importante, Python conheça onde um loop existe do travessão de 'tab'\n",
    "\n",
    "# O loop esta fechado aqui porque nós não somos no travessão \n",
    "print('\\n')\n",
    "\n",
    "# Nós podemos mudar os elementos da lista no loop\n",
    "i = 0 # Isso vai representar o índice\n",
    "for elemento in a:\n",
    "    a[i] = elemento*4\n",
    "    i = i+1 # Aumentar o índice para corresponder com o 'elemento'\n",
    "    \n",
    "print(a)\n",
    "\n",
    "# Nós podemos escreve um loop que vai fazer o mesmo do loop em cima mas usando:\n",
    "\n",
    "a = [0,5,10,3,2]\n",
    "\n",
    "for i in [0,1,2,3,4]:\n",
    "    a[i] = a[i]*4\n",
    "\n",
    "print(a)"
   ]
  },
  {
   "cell_type": "markdown",
   "metadata": {},
   "source": [
    "# As Declarações de Lógica\n",
    "\n",
    "Estas são expressões começando com 'if' e elas usam lógica para descidir onde o código vai fluxo. Isso significa peças do nosso código talvez não vai executar. \n",
    "- A declaração de lógica mais popular é uma 'decleração if'\n",
    "- Isso precisa em minimo dois peças, um 'if' e um 'else'\n",
    "- O 'if' tem uma decleração onde a resposta é verdade (True) ou falso (False).\n",
    "- Dento o 'if' há código que vai executar se a declaração do 'if' está verdade\n",
    "- O 'else' não tem uma decleração, ele é por todas as condições quando o 'if' está falso\n",
    "- Se a delcaração do 'if' é verdade o código não vai executar o 'else', vai mudar para o fim da decelração de lógical\n",
    "- Nós podemos usar terceiro componente, um 'elif (else if)', isso ato como um outro 'if' depois o primeiro 'if' e antés o 'else'\n",
    "- O mesmo do 'elif', se um 'if' (ou 'elif') acima excecuta, o 'decleração if' vai terminar e qualquer outros componentes não vai executar (o mesmo se eles estaria verdade)"
   ]
  },
  {
   "cell_type": "code",
   "execution_count": 9,
   "metadata": {
    "collapsed": false
   },
   "outputs": [
    {
     "name": "stdout",
     "output_type": "stream",
     "text": [
      "[-1, 0, 1, -1, -1]\n",
      "\n",
      "\n",
      "Verdade\n"
     ]
    }
   ],
   "source": [
    "a = [0,5,10,3,2]\n",
    "\n",
    "i = 0\n",
    "for e in a:\n",
    "    if e > 5: # Lê isso como 'Se \"e\" está maior que 5, entra'\n",
    "        a[i] = 1\n",
    "    elif e < 5: # Lê isso como 'Se a expressão em cima está falso, e \"e\" está menor que 5, entra'\n",
    "        a[i] = -1\n",
    "    elif e == 5: # Aqui '==' significa igual, '=' é usado para atribuir\n",
    "        a[i] = 0\n",
    "    else: # Nós precisamos terminar com um 'else' por todos os outros casos\n",
    "        print('Isso não é possível')\n",
    "    i = i + 1\n",
    "    \n",
    "print(a)\n",
    "print('\\n')\n",
    "\n",
    "# Aqui o 'elif' não vai executar apensar de ele está verdade porque o primeiro 'if' está verdade assim o código exicuta isso \n",
    "# então muda para o fim\n",
    "\n",
    "b = 15\n",
    "\n",
    "if b > 10:\n",
    "    print('Verdade')\n",
    "elif b > 5:\n",
    "    print('Também está verdade mas este não vai executar pelos números maiores que 10')\n",
    "else:\n",
    "    print('Outro')"
   ]
  },
  {
   "cell_type": "markdown",
   "metadata": {},
   "source": [
    "# As Funções\n",
    "\n",
    "- As funçoes são blueprints por código você quer reusar\n",
    "- Elas tomam 'entradas', faz o código, então volta as 'saídas'\n",
    "- Elas se comportam como as funções do Excel\n",
    "- Nós vimos exemploes das funções antés: print(var). print(var) aceita 'var' de uma entrada, e imprime o valor do 'var' para a tela como uma saída\n",
    "- Uma fanção tem dois componentes:\n",
    "- A declaração, isso é onde nós escrevemos o blueprint\n",
    "- A função chama, onde nós usamos a função no nosso código. 'print(var)' é um exemplo de uma função chama"
   ]
  },
  {
   "cell_type": "code",
   "execution_count": 12,
   "metadata": {
    "collapsed": false
   },
   "outputs": [
    {
     "name": "stdout",
     "output_type": "stream",
     "text": [
      "Há 2 do número 7\n",
      "\n",
      "\n"
     ]
    }
   ],
   "source": [
    "# A declaração\n",
    "def contar_números(lista, número=5):\n",
    "    \"\"\"\n",
    "    Este é o modo padrão para comentar as funções, isso função conta o número de vezes o 'número' aparece na 'lista'\n",
    "    \n",
    "    :param litsa: Uma 'list' onde cada elemento é um inteiro, isso entrada é obligatório\n",
    "    :param número: Um inteiro para estar contado, isso entrada não é obligatório se não 'número' for dado, o valor vai estar 5\n",
    "    \n",
    "    return contar_de_número: Um interio pela conta\n",
    "    \"\"\"\n",
    "    \n",
    "    contar_de_número = 0\n",
    "    for elemento in lista:\n",
    "        if elemento == número:\n",
    "            contar_de_número = contar_de_número + 1\n",
    "        else:\n",
    "            pass\n",
    "        \n",
    "    return contar_de_número\n",
    "\n",
    "# O código (com a chama)\n",
    "minha_lista = [1,4,7,4,3,5,5,7,6]\n",
    "meu_número = 7\n",
    "\n",
    "contar = contar_números(lista=minha_lista, número=meu_número) # Aqui nós damos um 'número' porque nós não queremos 5\n",
    "print('Há', contar, 'do número', meu_número)\n",
    "print('\\n')"
   ]
  },
  {
   "cell_type": "markdown",
   "metadata": {},
   "source": [
    "# As Classes\n",
    "\n",
    "- As classes são um outro tipo de blueprint. \n",
    "- Elas são uma coleção de funções e variáveis que compartilham um tema comum\n",
    "- nós criamos 'instâncias' da classe, cada instância vai ter as mesmas variável e funções, mas valores diferentes pelas variávels "
   ]
  },
  {
   "cell_type": "code",
   "execution_count": 20,
   "metadata": {
    "collapsed": false
   },
   "outputs": [
    {
     "name": "stdout",
     "output_type": "stream",
     "text": [
      "woof\n",
      "woof\n",
      "\n",
      "\n",
      "O nome do cachorro é: Jasper\n",
      "A idade do cachorro é: 10\n",
      "O nome do cachorro é: Luke\n",
      "A idade do cachorro é: 7\n",
      "\n",
      "\n",
      "Jasper tem 11 anos\n",
      "\n",
      "\n"
     ]
    }
   ],
   "source": [
    "# A declaração\n",
    "class Cachorro:\n",
    "    \n",
    "    def __init__(self, nome, idade):\n",
    "        \"\"\"\n",
    "        A função 'init' vai executar automaticamente quando nós instânciamos a classe, aqui nõs damos os valores por as variáveis\n",
    "        \n",
    "        :param nome: Uma cadeia pelo nome do cachorro\n",
    "        :param idade: Um inteiro pela idade do cachorro\n",
    "        \"\"\"\n",
    "        \n",
    "        self.nome = nome # Variáveis começando com 'self.' são as variávels da classe\n",
    "        self.idade = idade\n",
    "        \n",
    "    def voltar_valores(self): # Funções com o 'self' entrada são as funçõoes da classe, elas podem usar todas as variáveis \n",
    "                              # da classe\n",
    "        \n",
    "        print('O nome do cachorro é:', self.nome)\n",
    "        print('A idade do cachorro é:', self.idade)\n",
    "        \n",
    "    def late(self):\n",
    "        \n",
    "        print('woof')\n",
    "\n",
    "# O código (com as instáncias)\n",
    "jasper = Cachorro(nome='Jasper', idade=10)\n",
    "luke = Cachorro(nome='Luke', idade=7)\n",
    "\n",
    "# Eles tem os mesmos funções\n",
    "jasper.late()\n",
    "luke.late()\n",
    "print('\\n')\n",
    "\n",
    "# Mas valores diferentes\n",
    "jasper.voltar_valores()\n",
    "luke.voltar_valores()\n",
    "print('\\n')\n",
    "\n",
    "# Acesso variávels\n",
    "jasper.idade = 11 # Feliz aniversário\n",
    "print(jasper.nome, 'tem', jasper.idade, 'anos')\n",
    "print('\\n')"
   ]
  },
  {
   "cell_type": "code",
   "execution_count": null,
   "metadata": {
    "collapsed": true
   },
   "outputs": [],
   "source": []
  }
 ],
 "metadata": {
  "anaconda-cloud": {},
  "kernelspec": {
   "display_name": "Python [conda root]",
   "language": "python",
   "name": "conda-root-py"
  },
  "language_info": {
   "codemirror_mode": {
    "name": "ipython",
    "version": 3
   },
   "file_extension": ".py",
   "mimetype": "text/x-python",
   "name": "python",
   "nbconvert_exporter": "python",
   "pygments_lexer": "ipython3",
   "version": "3.5.2"
  }
 },
 "nbformat": 4,
 "nbformat_minor": 1
}
