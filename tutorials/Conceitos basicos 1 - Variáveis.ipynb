{
 "cells": [
  {
   "cell_type": "markdown",
   "metadata": {},
   "source": [
    "__author__ = \"Peter J Usherwood\"\n",
    "\n",
    "# Variáveis - Estruturas de dados"
   ]
  },
  {
   "cell_type": "markdown",
   "metadata": {},
   "source": [
    "# Variáveis com um valor\n",
    "\n",
    "- As variáveis são as representações dos nossos informações\n",
    "- Em idiomas de programação de computadores um variável tem dois propatidades, um tipo, e um valor. Em Python voce só precisa atribuir um valor, Python vai infere o tipo. "
   ]
  },
  {
   "cell_type": "markdown",
   "metadata": {},
   "source": [
    "# Criando as variávels\n",
    "\n",
    "- Quando nós criamos um variável com um valor (e tipo) nós \"instanciamos\" a variavel\n",
    "- Para instanciar uma variável nós precisamos duas coisas: um nome pela variável (isso pode ser quase qualquer string de texto, mas nao pode ter espaços ou começa com um numero), e o valor, nos atribuimos o valor para a variável usando o '=' operador. "
   ]
  },
  {
   "cell_type": "code",
   "execution_count": 5,
   "metadata": {
    "collapsed": false
   },
   "outputs": [
    {
     "data": {
      "text/plain": [
       "[1, 2, 2, 4, 23]"
      ]
     },
     "execution_count": 5,
     "metadata": {},
     "output_type": "execute_result"
    }
   ],
   "source": [
    "lista = [1,2,23,4,2]\n",
    "lista.sort()\n",
    "lista"
   ]
  },
  {
   "cell_type": "code",
   "execution_count": 21,
   "metadata": {
    "collapsed": false
   },
   "outputs": [
    {
     "name": "stdout",
     "output_type": "stream",
     "text": [
      "O valor da \"a\" é: 7\n",
      "O tipo da \"a\" é: <class 'int'>\n",
      "O valor da \"nome\" é: Felipe\n",
      "O tipo da \"nome\" é: <class 'str'>\n"
     ]
    }
   ],
   "source": [
    "# Instanciando\n",
    "\n",
    "# A variável \"a\" é um numero com valor 7\n",
    "a = 7\n",
    "# A variável \"name\" é cadeia, ele pode tem qualquer caracteres no teclado \n",
    "nome = 'Felipe'\n",
    "\n",
    "print('O valor da \"a\" é:', a) # Aqui \"print()\" e \"type()\" são funções, vou explicar sobre elas mais tarde\n",
    "print('O tipo da \"a\" é:', type(a))\n",
    "\n",
    "print('O valor da \"nome\" é:', nome)\n",
    "print('O tipo da \"nome\" é:', type(nome))"
   ]
  },
  {
   "cell_type": "markdown",
   "metadata": {},
   "source": [
    "Há mais tipos dos variávels então isso, vamos encontrar mais mais tarde."
   ]
  },
  {
   "cell_type": "markdown",
   "metadata": {},
   "source": [
    "# Mudando os valores\n",
    "\n",
    "Quando nós temos uma variável nós podemos mudar o valor com operações:\n",
    "- A operaçâo mais basica é o '=' nós usamos antes para instanciar, nós podemos usar isso para mudar o valor directamente (você pode pensar sobre isso como criando uma variável nova e substituindo a variável antiga)\n",
    "\n",
    "O de cima é um caso especial, normalmente você vai usar outras operações, e quando você usa as outras o comportamento é diferente\n",
    "- Nós precisamos dois variávels e uma operação, a combinação vai dar uma variável nova terçia\n",
    "- Esta variável terça pode ser atribuido para uma variável usado na operação\n",
    "- As duas variávels usado dever ser o mesmo tipo \n",
    "- As operações vão funcaionar diferente dependente no tipo da variável"
   ]
  },
  {
   "cell_type": "code",
   "execution_count": 16,
   "metadata": {
    "collapsed": false
   },
   "outputs": [
    {
     "name": "stdout",
     "output_type": "stream",
     "text": [
      "\"a\" is 6 \n",
      "\"b\" is 10 \n",
      "\"c (a*b)\" is 60\n",
      "\n",
      "\n",
      "\"a\" is 60 \n",
      "\"b\" is 10\n",
      "\n",
      "\n",
      "\"a\" is 6.0\n",
      "\n",
      "\n",
      "\"a\" is Olá \n",
      "\"b\" is Felipe \n",
      "\"c (a+\" \"+b)\" is Olá Felipe\n",
      "\n",
      "\n"
     ]
    }
   ],
   "source": [
    "# Operações numéricas\n",
    "\n",
    "a = 6 \n",
    "b = 10\n",
    "c = a*b # multiplicação\n",
    "print('\"a\" is', a,'\\n\"b\" is', b, '\\n\"c (a*b)\" is', c)\n",
    "print('\\n') # \\n é uma caracter de linha nova\n",
    "\n",
    "a = a*b # multiplicação e substituindo para \"a\" novamente\n",
    "print('\"a\" is', a,'\\n\"b\" is', b)\n",
    "print('\\n')\n",
    "\n",
    "a = a/10 # Aqui nós usamos uma variável sem atribuindo ela um nome (10)\n",
    "print('\"a\" is', a)\n",
    "print('\\n')\n",
    "\n",
    "# Operações de strings\n",
    "a = 'Olá'\n",
    "b = 'Felipe'\n",
    "\n",
    "c = a + ' ' + b # Aqui nós usamos vários operações em uma linha\n",
    "print('\"a\" is', a,'\\n\"b\" is', b, '\\n\"c (a+\" \"+b)\" is', c)\n",
    "print('\\n')"
   ]
  },
  {
   "cell_type": "markdown",
   "metadata": {},
   "source": [
    "# Variáveis com vários valores"
   ]
  },
  {
   "cell_type": "markdown",
   "metadata": {},
   "source": [
    "As listas são um tipo de variável com vários valores. \n",
    "\n",
    "- Estes tem um conjunto das variávels em uma lista, você busca sobre dando o índice da variável voce quer\n",
    "- O índice é um inteiro\n",
    "- O valor é qualquer tipo de variável\n",
    "- As listas tem ordem\n",
    "- Os valores podem ter tipos das variáveis diferentes em uma lista"
   ]
  },
  {
   "cell_type": "code",
   "execution_count": 8,
   "metadata": {
    "collapsed": false
   },
   "outputs": [
    {
     "name": "stdout",
     "output_type": "stream",
     "text": [
      "Os valores do \"lista_eg\" é: [6, 10, 'Paulo']\n",
      "O tipo do \"lista_eg\" é: <class 'list'>\n",
      "\n",
      "\n",
      "O valor pelo primeiro índice é: Paulo\n",
      "\n",
      "\n",
      "O valor pelo primeiro índice é: 40\n",
      "\n",
      "\n"
     ]
    },
    {
     "data": {
      "text/plain": [
       "[40, 10, 'Paulo']"
      ]
     },
     "execution_count": 8,
     "metadata": {},
     "output_type": "execute_result"
    }
   ],
   "source": [
    "# Instanciando\n",
    "lista_eg = [6,10,'Paulo']\n",
    "print('Os valores do \"lista_eg\" é:', lista_eg)\n",
    "print('O tipo do \"lista_eg\" é:', type(lista_eg))\n",
    "print('\\n')\n",
    "\n",
    "# Chamando\n",
    "print('O valor pelo primeiro índice é:', lista_eg[2]) # Nota nas listas de Python o primeiro índice é 0 (não 1)\n",
    "print('\\n')\n",
    "\n",
    "# Substiuindo/Mudando os valores \n",
    "lista_eg[0] = lista_eg[1]*4\n",
    "print('O valor pelo primeiro índice é:', lista_eg[0])\n",
    "print('\\n')\n",
    "\n",
    "lista_eg"
   ]
  },
  {
   "cell_type": "markdown",
   "metadata": {},
   "source": [
    "Os dicionários são um outro tipo de variável com vários valores. \n",
    "\n",
    "- Estes tem um conjunto dos \"pares de valores-chaves\", você busca sobre dando uma \"chave\" (única)\n",
    "- A chave é uma cadeia única\n",
    "- O valor é qualquer tipo de variável\n",
    "- Os dicionários não tem ordem\n",
    "- Os valores podem ter tipos das variáveis diferentes em um dicionário"
   ]
  },
  {
   "cell_type": "code",
   "execution_count": 22,
   "metadata": {
    "collapsed": false
   },
   "outputs": [
    {
     "name": "stdout",
     "output_type": "stream",
     "text": [
      "Os valores do \"dict_eg\" é: {'cebolas': 6, 'cenuras': 10, 'nome': 'Paulo'}\n",
      "O tipo do \"dict_eg\" é: <class 'dict'>\n",
      "\n",
      "\n",
      "O valor pelas \"cebolas\" é: 6\n",
      "\n",
      "\n",
      "O valor pelas \"cebolas\" é: 50\n",
      "\n",
      "\n"
     ]
    }
   ],
   "source": [
    "# Instanciando\n",
    "dict_eg = {'cebolas':6, 'cenuras':10, 'nome':'Paulo'}\n",
    "print('Os valores do \"dict_eg\" é:', dict_eg)\n",
    "print('O tipo do \"dict_eg\" é:', type(dict_eg))\n",
    "print('\\n')\n",
    "\n",
    "# Chamando\n",
    "print('O valor pelas \"cebolas\" é:', dict_eg['cebolas'])\n",
    "print('\\n')\n",
    "\n",
    "# Substiuindo/Mudando os valores \n",
    "dict_eg['cebolas'] = 50\n",
    "print('O valor pelas \"cebolas\" é:', dict_eg['cebolas'])\n",
    "print('\\n')"
   ]
  },
  {
   "cell_type": "markdown",
   "metadata": {},
   "source": [
    "Você pode ter listas e dicionários aninhadas"
   ]
  }
 ],
 "metadata": {
  "anaconda-cloud": {},
  "kernelspec": {
   "display_name": "Python [conda root]",
   "language": "python",
   "name": "conda-root-py"
  },
  "language_info": {
   "codemirror_mode": {
    "name": "ipython",
    "version": 3
   },
   "file_extension": ".py",
   "mimetype": "text/x-python",
   "name": "python",
   "nbconvert_exporter": "python",
   "pygments_lexer": "ipython3",
   "version": "3.5.2"
  }
 },
 "nbformat": 4,
 "nbformat_minor": 1
}
